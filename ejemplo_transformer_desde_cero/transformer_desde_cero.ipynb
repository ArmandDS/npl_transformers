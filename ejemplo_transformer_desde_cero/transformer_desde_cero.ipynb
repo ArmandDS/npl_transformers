{
  "cells": [
    {
      "cell_type": "markdown",
      "source": [
        "# Demo de un Transformer desde cero para un modelo de traducción Español-Ingles\n",
        "\n",
        "**Autor:** [Armand](https://armandds.github.io/)<br>\n",
        "**Creado:** 2021/11/20<br>\n",
        "**Modificado:** 2021/12/16<br>\n",
        "**Descripción:** implementar un modelo transformer para traduccion español-ingles, solo para aprendizaje, del [post como funciona el transformer](https://txtdatos.digital/2021/11/23/transformers-arquitectura-encoder/)"
      ],
      "metadata": {
        "id": "yy0AShftuSlc"
      }
    },
    {
      "cell_type": "markdown",
      "source": [
        "## Cargamos las librerias a utilizar"
      ],
      "metadata": {
        "id": "Tw-ql2CJu2Ap"
      }
    },
    {
      "cell_type": "code",
      "execution_count": 135,
      "metadata": {
        "id": "zibJCNl3dvEZ"
      },
      "outputs": [],
      "source": [
        "import spacy\n",
        "import string\n",
        "import re\n",
        "import pathlib\n",
        "import random\n",
        "import string\n",
        "import re\n",
        "import os\n",
        "import torch\n",
        "import torch.nn as nn\n",
        "import torch.optim as optim\n",
        "import torch.nn.functional as F\n",
        "import time\n",
        "import math\n"
      ]
    },
    {
      "cell_type": "markdown",
      "source": [
        "## Descargamos los datos a utilizar"
      ],
      "metadata": {
        "id": "aQdEg8Tq0azE"
      }
    },
    {
      "cell_type": "markdown",
      "source": [
        "Para esta demo vamos a usar el dataset de traducción español-ingles"
      ],
      "metadata": {
        "id": "OJ7cTQ8f0f76"
      }
    },
    {
      "cell_type": "code",
      "execution_count": 136,
      "metadata": {
        "id": "j69KPRmcdvEa"
      },
      "outputs": [],
      "source": [
        "\n",
        "if not os.path.isdir('spa-eng'):\n",
        "    !wget -O spa-eng.zip -q \"http://storage.googleapis.com/download.tensorflow.org/data/spa-eng.zip\"\n",
        "    !unzip -q spa-eng.zip"
      ]
    },
    {
      "cell_type": "code",
      "execution_count": 137,
      "metadata": {
        "id": "SkMsHHCGdvEc"
      },
      "outputs": [],
      "source": [
        "text_file = \"/content/spa-eng/spa.txt\"\n",
        "\n",
        "\n",
        "with open(text_file) as f:\n",
        "    lines = f.read().split(\"\\n\")[:-1]\n",
        "text_pairs = []\n",
        "for line in lines:\n",
        "    eng, spa = line.split(\"\\t\")\n",
        "    text_pairs.append(( spa, eng))"
      ]
    },
    {
      "cell_type": "markdown",
      "source": [
        "Veremos como lucen nuestros datos:"
      ],
      "metadata": {
        "id": "20-_1ZNO0v3k"
      }
    },
    {
      "cell_type": "code",
      "source": [
        "for _ in range(5):\n",
        "    print(random.choice(text_pairs))"
      ],
      "metadata": {
        "colab": {
          "base_uri": "https://localhost:8080/"
        },
        "id": "mfUqRF0jxPpb",
        "outputId": "90fa5987-a1a3-483c-989e-f86a831ee4ab"
      },
      "execution_count": 138,
      "outputs": [
        {
          "output_type": "stream",
          "name": "stdout",
          "text": [
            "('Tom le pidió un menú al mesero.', 'Tom asked the waiter for a menu.')\n",
            "('Tom tiene una pila entera de boletas de estacionamiento sin pagar.', 'Tom has a whole pile of unpaid parking tickets.')\n",
            "('Tom almorzó con Mary.', 'Tom had lunch with Mary.')\n",
            "('Si estás aquí quiere decir que te importa.', 'If you are here, it means you care.')\n",
            "('¡Que te mejores!', 'Get well soon!')\n"
          ]
        }
      ]
    },
    {
      "cell_type": "markdown",
      "metadata": {
        "id": "e0qDEmL2dvEZ"
      },
      "source": [
        "## Procesado de datos"
      ]
    },
    {
      "cell_type": "markdown",
      "source": [
        "Nos apoyeramos en la libreria spacy para crear tokenizadores para el idioma ingles y español"
      ],
      "metadata": {
        "id": "s66J6WXb2Nwx"
      }
    },
    {
      "cell_type": "code",
      "source": [
        "!python -m spacy download en_core_web_sm\n",
        "!python -m spacy download es_core_news_sm"
      ],
      "metadata": {
        "id": "QEtX7BjYyVn5"
      },
      "execution_count": null,
      "outputs": []
    },
    {
      "cell_type": "code",
      "source": [
        "!python -m spacy link en_core_web_sm en_core_web_sm\n",
        "!python -m spacy link es_core_news_sm es_core_news_sm"
      ],
      "metadata": {
        "colab": {
          "base_uri": "https://localhost:8080/"
        },
        "id": "Qnx5yYbG0PyU",
        "outputId": "82016949-c745-4549-c83e-e18e4b9b161e"
      },
      "execution_count": 140,
      "outputs": [
        {
          "output_type": "stream",
          "name": "stdout",
          "text": [
            "\n",
            "\u001b[38;5;1m✘ Link 'en_core_web_sm' already exists\u001b[0m\n",
            "To overwrite an existing link, use the --force flag\n",
            "\n",
            "\n",
            "\u001b[38;5;1m✘ Link 'es_core_news_sm' already exists\u001b[0m\n",
            "To overwrite an existing link, use the --force flag\n",
            "\n"
          ]
        }
      ]
    },
    {
      "cell_type": "markdown",
      "source": [
        "Creamos los 2 tokenizadores, es decir funciones que divididen la oración en tokens"
      ],
      "metadata": {
        "id": "W8m8K-Dc2fKy"
      }
    },
    {
      "cell_type": "code",
      "source": [
        "nlp_en = spacy.load('en_core_web_sm')\n",
        "\n",
        "def tokenizer_en(sentence):\n",
        "    \n",
        "    sentence = re.sub(\n",
        "    r\"[\\*\\\"“”\\n\\\\…\\+\\-\\/\\=\\(\\)‘•:\\[\\]\\|’\\!;]\", \" \", str(sentence))\n",
        "    sentence = re.sub(r\"[ ]+\", \" \", sentence)\n",
        "    sentence = re.sub(r\"\\!+\", \"!\", sentence)\n",
        "    sentence = re.sub(r\"\\,+\", \",\", sentence)\n",
        "    sentence = re.sub(r\"\\?+\", \"?\", sentence)\n",
        "    sentence = sentence.lower()\n",
        "    return [tok.text for tok in nlp_en.tokenizer(sentence) if tok.text != \" \"]"
      ],
      "metadata": {
        "id": "WvAsqRiYze10"
      },
      "execution_count": 141,
      "outputs": []
    },
    {
      "cell_type": "code",
      "source": [
        "nlp_es = spacy.load('es_core_news_sm')\n",
        "def tokenizer_es(sentence):\n",
        "    \n",
        "    sentence = re.sub(\n",
        "    r\"[\\*\\\"“”\\n\\\\…\\+\\-\\/\\=\\(\\)‘•:\\[\\]\\|’\\!;]\", \" \", str(sentence))\n",
        "    sentence = re.sub(r\"[ ]+\", \" \", sentence)\n",
        "    sentence = re.sub(r\"\\!+\", \"!\", sentence)\n",
        "    sentence = re.sub(r\"\\,+\", \",\", sentence)\n",
        "    sentence = re.sub(r\"\\?+\", \"?\", sentence)\n",
        "    sentence = sentence.lower()\n",
        "    return [tok.text for tok in nlp_es.tokenizer(sentence) if tok.text != \" \"]"
      ],
      "metadata": {
        "id": "ArAWu94Fz5CP"
      },
      "execution_count": 142,
      "outputs": []
    },
    {
      "cell_type": "markdown",
      "source": [
        "Probamos su funcionamiento"
      ],
      "metadata": {
        "id": "4zBMX9NI2pbD"
      }
    },
    {
      "cell_type": "code",
      "source": [
        "tokenizer_es(\"¿quieres sonar como un hablante nativo?\")"
      ],
      "metadata": {
        "colab": {
          "base_uri": "https://localhost:8080/"
        },
        "id": "Rs8EDUPR0BMk",
        "outputId": "a2e31753-11b2-4499-970f-2df5987fa2cf"
      },
      "execution_count": 143,
      "outputs": [
        {
          "output_type": "execute_result",
          "data": {
            "text/plain": [
              "['¿', 'quieres', 'sonar', 'como', 'un', 'hablante', 'nativo', '?']"
            ]
          },
          "metadata": {},
          "execution_count": 143
        }
      ]
    },
    {
      "cell_type": "code",
      "execution_count": 144,
      "metadata": {
        "id": "ZAedmVbGdvEb",
        "colab": {
          "base_uri": "https://localhost:8080/"
        },
        "outputId": "dfcc52fc-1804-4406-c11a-5ee92f99fdf4"
      },
      "outputs": [
        {
          "output_type": "execute_result",
          "data": {
            "text/plain": [
              "['hello', ',', 'how', 'are', 'you', '?']"
            ]
          },
          "metadata": {},
          "execution_count": 144
        }
      ],
      "source": [
        "tokenizer_en(\"hello, how are you?\")"
      ]
    },
    {
      "cell_type": "markdown",
      "source": [
        "Ahora crearemos el diccionario que contiene todas las palabras presentes en nuestro dataset tanto en español como en ingles"
      ],
      "metadata": {
        "id": "zoI-3JGR3FWF"
      }
    },
    {
      "cell_type": "code",
      "source": [
        "word2idx_spa = {}\n",
        "word2idx_eng = {}\n",
        "idx2word_eng = {}\n",
        "idx2word_spa= {}\n",
        "\n",
        "\n",
        "strip_chars = string.punctuation + \"¿\"\n",
        "j = 1\n",
        "z = 3\n",
        "word2idx_eng[\"[PAD]\"] = 0\n",
        "word2idx_eng[\"[SOS]\"] = 1\n",
        "word2idx_eng[\"[EOS]\"] = 2\n",
        "word2idx_spa[\"[PAD]\"] = 0\n",
        "\n",
        "for i, (spa, eng) in enumerate(text_pairs):\n",
        "  for w1 in tokenizer_es(spa):\n",
        "    if w1 not in word2idx_spa:\n",
        "      word2idx_spa[w1] = j\n",
        "      j +=1  \n",
        "  for w in tokenizer_en(eng):\n",
        "    if w not in word2idx_eng:\n",
        "      word2idx_eng[w] = z\n",
        "      z +=1   \n",
        "def ws2seq(s):\n",
        "    return [word2idx_spa[i] for i in s if i in word2idx_spa.keys()] \n",
        "    \n",
        "def seq2ws(s):\n",
        "    return [idx2word_spa[i] for i in s if idx2word_spa[i]]\n",
        "\n",
        "def we2seq(s):\n",
        "    return [word2idx_eng['[SOS]']] + [word2idx_eng[i] for i in s if i in word2idx_eng.keys()] + [word2idx_eng['[EOS]']]\n",
        "\n",
        "def seq2we(s):\n",
        "    return [idx2word_eng[i] for i in s]\n",
        "\n",
        "\n",
        "idx2word_eng = {v:k for k,v in word2idx_eng.items() }\n",
        "idx2word_spa= {v:k for k,v in word2idx_spa.items() }"
      ],
      "metadata": {
        "id": "I17OW15RxlBs"
      },
      "execution_count": 145,
      "outputs": []
    },
    {
      "cell_type": "markdown",
      "source": [
        "El diccionario que nos permitira convertir una palabra a número queda de la siguiente manera:"
      ],
      "metadata": {
        "id": "wF5pnnOE63q0"
      }
    },
    {
      "cell_type": "markdown",
      "source": [
        "Para el Español:"
      ],
      "metadata": {
        "id": "9KEKN9DO663b"
      }
    },
    {
      "cell_type": "code",
      "source": [
        "dict(random.sample(word2idx_spa.items(), 10))"
      ],
      "metadata": {
        "colab": {
          "base_uri": "https://localhost:8080/"
        },
        "id": "BADlyja3xrJf",
        "outputId": "1eeec3dc-4635-4cab-c389-8e75849f6209"
      },
      "execution_count": 146,
      "outputs": [
        {
          "data": {
            "text/plain": [
              "{'amañado': 6881,\n",
              " 'bistec': 8430,\n",
              " 'chingón': 20377,\n",
              " 'despiertas': 12326,\n",
              " 'entrenado': 13015,\n",
              " 'estupendos': 4393,\n",
              " 'llamará': 21023,\n",
              " 'masticaste': 21418,\n",
              " 'pelón': 1588,\n",
              " 'préstamo': 2664}"
            ]
          },
          "execution_count": null,
          "metadata": {},
          "output_type": "execute_result"
        }
      ]
    },
    {
      "cell_type": "markdown",
      "source": [
        "Para el Inglés:"
      ],
      "metadata": {
        "id": "NXxDxmMK6-tO"
      }
    },
    {
      "cell_type": "code",
      "source": [
        "dict(random.sample(word2idx_eng.items(), 10))"
      ],
      "metadata": {
        "colab": {
          "base_uri": "https://localhost:8080/"
        },
        "id": "6tj3VmvH7F31",
        "outputId": "9733393c-d41f-49c2-f3cc-6fd1c3d53236"
      },
      "execution_count": 147,
      "outputs": [
        {
          "data": {
            "text/plain": [
              "{'basking': 6582,\n",
              " 'cancer': 1190,\n",
              " 'dilemma': 3975,\n",
              " 'fix': 124,\n",
              " 'heartbreaking': 7561,\n",
              " 'hero': 423,\n",
              " 'labor': 8558,\n",
              " 'lifetime': 9823,\n",
              " 'race': 2619,\n",
              " 'unless': 8697}"
            ]
          },
          "execution_count": null,
          "metadata": {},
          "output_type": "execute_result"
        }
      ]
    },
    {
      "cell_type": "markdown",
      "source": [
        "Y la cantidad de palabras o tokens presentes es:"
      ],
      "metadata": {
        "id": "bYdnLTAP7KZl"
      }
    },
    {
      "cell_type": "code",
      "source": [
        "len(word2idx_eng), len(word2idx_spa)"
      ],
      "metadata": {
        "colab": {
          "base_uri": "https://localhost:8080/"
        },
        "id": "y7FXaBoBx8xB",
        "outputId": "97c7ee6c-7060-454b-89d0-485aede94bdc"
      },
      "execution_count": 148,
      "outputs": [
        {
          "data": {
            "text/plain": [
              "(13193, 26041)"
            ]
          },
          "execution_count": null,
          "metadata": {},
          "output_type": "execute_result"
        }
      ]
    },
    {
      "cell_type": "markdown",
      "source": [
        "Tenemos que hay 13K palabras para el ingles y 26K palabras para el español"
      ],
      "metadata": {
        "id": "9kEi0eFI7Oro"
      }
    },
    {
      "cell_type": "code",
      "source": [
        "word2idx_spa[\"[PAD]\"]"
      ],
      "metadata": {
        "colab": {
          "base_uri": "https://localhost:8080/"
        },
        "id": "lkh8RFrXx-sh",
        "outputId": "580d29de-6950-4ca4-c5d2-7bee82320d01"
      },
      "execution_count": 149,
      "outputs": [
        {
          "data": {
            "text/plain": [
              "0"
            ]
          },
          "execution_count": null,
          "metadata": {},
          "output_type": "execute_result"
        }
      ]
    },
    {
      "cell_type": "markdown",
      "source": [
        "Ahora creamos las clases que nos permitiran cargar los datos por lotes (batch)"
      ],
      "metadata": {
        "id": "cO_RVxZh7V-7"
      }
    },
    {
      "cell_type": "code",
      "source": [
        "\n",
        "random.seed(30)\n",
        "torch.manual_seed(30)\n",
        "torch.cuda.manual_seed(30)\n",
        "device = torch.device('cuda' if torch.cuda.is_available() else 'cpu')\n",
        "batch_size = 64\n",
        "\n",
        "\n",
        "class TextLoader(torch.utils.data.Dataset):\n",
        "    def __init__(self, path= \"/content/spa-eng/spa.txt\"):\n",
        "        self.x, self.y = [], []\n",
        "        with open(text_file) as f:\n",
        "            lines = f.read().split(\"\\n\")[:-1]\n",
        "        for line in lines:\n",
        "            eng, spa = line.split(\"\\t\")\n",
        "            eng_l = tokenizer_en(eng)\n",
        "            spa_l = tokenizer_en(spa)\n",
        "            self.x.append(ws2seq(spa_l))\n",
        "            self.y.append(we2seq(eng_l))\n",
        "    def __getitem__(self, index):\n",
        "        return (torch.LongTensor(self.x[index]), torch.LongTensor(self.y[index]))\n",
        "\n",
        "    def __len__(self):\n",
        "        return len(self.x)\n",
        "\n",
        "\n",
        "class TextCollate():\n",
        "    def __call__(self, batch):\n",
        "        max_x_len = max([i[0].size(0) for i in batch])\n",
        "        x_padded = torch.LongTensor( len(batch), max_x_len)\n",
        "        x_padded.zero_()\n",
        "\n",
        "        max_y_len = max([i[1].size(0) for i in batch])\n",
        "        y_padded = torch.LongTensor( len(batch), max_y_len)\n",
        "        y_padded.zero_()\n",
        "\n",
        "        for i in range(len(batch)):\n",
        "            x = batch[i][0]\n",
        "            x_padded[i, :x.size(0)] = x\n",
        "            y = batch[i][1]\n",
        "            y_padded[i,:y.size(0)] = y\n",
        "\n",
        "        return x_padded, y_padded"
      ],
      "metadata": {
        "id": "cn0gv8U3yCSz"
      },
      "execution_count": 150,
      "outputs": []
    },
    {
      "cell_type": "markdown",
      "source": [
        "separamos en datos de entrenamiento (train) y datos de validación (val), con un ratio de 90:10 es decir entrenaremos con el 90% de nuestros datos y validaremos con el 10% restante"
      ],
      "metadata": {
        "id": "BFjuxQdQ7gPS"
      }
    },
    {
      "cell_type": "code",
      "source": [
        "pin_memory = True\n",
        "num_workers = 2\n",
        "\n",
        "dataset = TextLoader()\n",
        "train_len = int(len(dataset) * 0.9)\n",
        "trainset, valset = torch.utils.data.random_split(dataset, [train_len, len(dataset) - train_len])\n",
        "\n",
        "collate_fn = TextCollate()\n",
        "\n",
        "train_loader = torch.utils.data.DataLoader(trainset, num_workers=num_workers, shuffle=True,\n",
        "                          batch_size=batch_size, pin_memory=pin_memory,\n",
        "                          drop_last=True, collate_fn=collate_fn)\n",
        "\n",
        "val_loader = torch.utils.data.DataLoader(valset, num_workers=num_workers, shuffle=False,\n",
        "                        batch_size=batch_size, pin_memory=pin_memory,\n",
        "                        drop_last=False, collate_fn=collate_fn)"
      ],
      "metadata": {
        "id": "zwKURvUbyIWa"
      },
      "execution_count": null,
      "outputs": []
    },
    {
      "cell_type": "markdown",
      "source": [
        "Comprobamos el funcionamiento:"
      ],
      "metadata": {
        "id": "pXEM8t7H8XAZ"
      }
    },
    {
      "cell_type": "code",
      "source": [
        "for x,y in train_loader:\n",
        "  print(x.shape, y.shape)\n",
        "  print(y[:,1])\n",
        "  print(y[1:,1])\n",
        "  break"
      ],
      "metadata": {
        "id": "7M0buNKVySNg"
      },
      "execution_count": null,
      "outputs": []
    },
    {
      "cell_type": "code",
      "source": [
        "for x,y in zip(dataset.x, dataset.y):\n",
        "  print(x)\n",
        "  print(seq2ws(x))\n",
        "  print(y)\n",
        "  print(seq2we(y))\n",
        "  break"
      ],
      "metadata": {
        "id": "ff1C94fJ8a3Q"
      },
      "execution_count": null,
      "outputs": []
    },
    {
      "cell_type": "markdown",
      "source": [
        "Es decir solo hemos reemplazado cada palabra por un número y le hemos agregado los tokens especiales SOS, y EOS"
      ],
      "metadata": {
        "id": "ccOXQc8J8d4U"
      }
    },
    {
      "cell_type": "markdown",
      "metadata": {
        "id": "VZZHPerZdvDr"
      },
      "source": [
        "# Implementanción de la arquitectura Transfomers\n"
      ]
    },
    {
      "cell_type": "markdown",
      "source": [
        "Para el funcionamiento teorico por favor leer el [blog](http://txtdatos.digital/)"
      ],
      "metadata": {
        "id": "CSaEQ7jd8m2U"
      }
    },
    {
      "cell_type": "markdown",
      "metadata": {
        "id": "SPGs-MpKdvD5"
      },
      "source": [
        "Debemos destacar que la capa de embedding y la capa de normalización se utilizará la implementacion que trae pytorch"
      ]
    },
    {
      "cell_type": "markdown",
      "metadata": {
        "id": "DjTtziradvD6"
      },
      "source": [
        "### Embedding"
      ]
    },
    {
      "cell_type": "markdown",
      "source": [
        "Utilizaremos el de pytorch"
      ],
      "metadata": {
        "id": "mw-NWVr6QUAU"
      }
    },
    {
      "cell_type": "markdown",
      "metadata": {
        "id": "GC-wD_wUdvD-"
      },
      "source": [
        "### Positional encoding"
      ]
    },
    {
      "cell_type": "markdown",
      "source": [
        "Aquí definimos la capa que crea la matriz de posiciones"
      ],
      "metadata": {
        "id": "LuL0rOoBBQvn"
      }
    },
    {
      "cell_type": "code",
      "execution_count": null,
      "metadata": {
        "id": "bMl7KWuRdvED"
      },
      "outputs": [],
      "source": [
        "\n",
        "class PositionalEncoder(nn.Module):\n",
        "    def __init__(self, d_model, max_seq_len = 80):\n",
        "        super().__init__()\n",
        "        self.d_model = d_model\n",
        "        \n",
        "        pe = torch.zeros(max_seq_len, d_model)\n",
        "        for pos in range(max_seq_len):\n",
        "            for i in range(0, d_model, 2):\n",
        "                # se calcula las posiciones pares \n",
        "                pe[pos, i] = \\\n",
        "                math.sin(pos / (10000 ** ((2 * i)/d_model)))\n",
        "                # se calcula las posiciones impares\n",
        "                pe[pos, i + 1] = \\\n",
        "                math.cos(pos / (10000 ** ((2 * (i + 1))/d_model)))\n",
        "                \n",
        "        pe = pe.unsqueeze(0)\n",
        "        self.register_buffer('pe', pe)\n",
        " \n",
        "    \n",
        "    def forward(self, x):\n",
        "        # Aqui incrementamos el valor del embedding para que la matriz de posiciones no domine\n",
        "        x = x * math.sqrt(self.d_model)\n",
        "        #sumamos para obtener el vector de entrada final tal como se comenta en el post\n",
        "        seq_len = x.size(1)\n",
        "        x = x + self.pe[:,:seq_len]\n",
        "        return x"
      ]
    },
    {
      "cell_type": "markdown",
      "metadata": {
        "id": "Dbc4HjSgdvEF"
      },
      "source": [
        "## Crearemos la capa de auto-atención"
      ]
    },
    {
      "cell_type": "markdown",
      "source": [
        "Se define una función auxiliar para la multiplicación de matrices Q,K y V"
      ],
      "metadata": {
        "id": "3QvlmaEWDcYN"
      }
    },
    {
      "cell_type": "code",
      "execution_count": null,
      "metadata": {
        "id": "Db7-4qxidvEH"
      },
      "outputs": [],
      "source": [
        "\n",
        "\n",
        "def attention(q, k, v, d_k, mask=None, dropout=None):\n",
        "    \n",
        "    scores = torch.matmul(q, k.transpose(-2, -1)) /  math.sqrt(d_k)\n",
        "    if mask is not None:\n",
        "            mask = mask.unsqueeze(1)\n",
        "            scores = scores.masked_fill(mask == 0, -1e9)\n",
        "    scores = F.softmax(scores, dim=-1)\n",
        "    \n",
        "    if dropout is not None:\n",
        "        scores = dropout(scores)\n",
        "        \n",
        "    output = torch.matmul(scores, v)\n",
        "    return output"
      ]
    },
    {
      "cell_type": "markdown",
      "metadata": {
        "id": "EVU0z_TedvEJ"
      },
      "source": [
        "### Ahora definimos la capa de atención:"
      ]
    },
    {
      "cell_type": "code",
      "execution_count": null,
      "metadata": {
        "id": "dn5TL0tudvEJ"
      },
      "outputs": [],
      "source": [
        "class MultiHeadAttention(nn.Module):\n",
        "    def __init__(self, heads, d_model, dropout = 0.1):\n",
        "        super().__init__()\n",
        "        \n",
        "        self.d_model = d_model\n",
        "        self.d_k = d_model // heads\n",
        "        self.h = heads\n",
        "        #Aqui definimos las matrices WQ, WK y WV explicadas en el post\n",
        "        self.q_linear = nn.Linear(d_model, d_model)\n",
        "        self.v_linear = nn.Linear(d_model, d_model)\n",
        "        self.k_linear = nn.Linear(d_model, d_model)\n",
        "        self.dropout = nn.Dropout(dropout)\n",
        "        self.out = nn.Linear(d_model, d_model)\n",
        "    \n",
        "    def forward(self, q, k, v, mask=None):\n",
        "        \n",
        "        bs = q.size(0)\n",
        "        \n",
        "        # realizamos operaciones para obtener las dimensiones adecuadas\n",
        "        \n",
        "        k = self.k_linear(k).view(bs, -1, self.h, self.d_k)\n",
        "        q = self.q_linear(q).view(bs, -1, self.h, self.d_k)\n",
        "        v = self.v_linear(v).view(bs, -1, self.h, self.d_k)\n",
        "        \n",
        "       \n",
        "        k = k.transpose(1,2)\n",
        "        q = q.transpose(1,2)\n",
        "        v = v.transpose(1,2)\n",
        "\n",
        "        # calculamos la atención\n",
        "        scores = attention(q, k, v, self.d_k, mask, self.dropout)\n",
        "        \n",
        "        # concatemos y obtenemos la salida\n",
        "        concat = scores.transpose(1,2).contiguous()\\\n",
        "        .view(bs, -1, self.d_model)\n",
        "        \n",
        "        output = self.out(concat)\n",
        "    \n",
        "        return output"
      ]
    },
    {
      "cell_type": "markdown",
      "metadata": {
        "id": "Ol6-6wb_dvEL"
      },
      "source": [
        "### La capa de Feed Forward "
      ]
    },
    {
      "cell_type": "code",
      "execution_count": null,
      "metadata": {
        "id": "EtDaqblCdvEM"
      },
      "outputs": [],
      "source": [
        "class FeedForward(nn.Module):\n",
        "    def __init__(self, d_model, d_ff=2048, dropout = 0.1):\n",
        "        super().__init__() \n",
        "        # definimos el tamaño por defecto a 2048\n",
        "        self.linear_1 = nn.Linear(d_model, d_ff)\n",
        "        self.dropout = nn.Dropout(dropout)\n",
        "        self.linear_2 = nn.Linear(d_ff, d_model)\n",
        "    def forward(self, x):\n",
        "        x = x.cuda()\n",
        "        x = self.dropout(F.relu(self.linear_1(x)))\n",
        "        x = self.linear_2(x)\n",
        "        return x"
      ]
    },
    {
      "cell_type": "markdown",
      "metadata": {
        "id": "PNqaESLpdvEN"
      },
      "source": [
        "### Capa de normalización"
      ]
    },
    {
      "cell_type": "markdown",
      "source": [
        "vamos a usar la que ya implementa pytorch"
      ],
      "metadata": {
        "id": "bZHGSqTxGMgl"
      }
    },
    {
      "cell_type": "markdown",
      "metadata": {
        "id": "GMLLlX0idvES"
      },
      "source": [
        "## Definimos el Encoder"
      ]
    },
    {
      "cell_type": "markdown",
      "source": [
        "Cada decoder es 1 capa de multiatencion y 1 capa feed-forward"
      ],
      "metadata": {
        "id": "-OT2so4PbJbo"
      }
    },
    {
      "cell_type": "code",
      "execution_count": null,
      "metadata": {
        "id": "Yv_4oAJ6dvET"
      },
      "outputs": [],
      "source": [
        "class EncoderLayer(nn.Module):\n",
        "    def __init__(self, d_model, heads, dropout = 0.1):\n",
        "        super().__init__()\n",
        "        self.norm_1 = nn.LayerNorm(d_model)\n",
        "        self.norm_2 = nn.LayerNorm(d_model)\n",
        "        self.attn = MultiHeadAttention(heads, d_model)\n",
        "        self.ff = FeedForward(d_model).cuda()\n",
        "        self.dropout_1 = nn.Dropout(dropout)\n",
        "        self.dropout_2 = nn.Dropout(dropout)\n",
        "        \n",
        "    def forward(self, x, mask):\n",
        "        x2 = self.norm_1(x)\n",
        "        x = x + self.dropout_1(self.attn(x2,x2,x2,mask))\n",
        "        x2 = self.norm_2(x)\n",
        "        x = x + self.dropout_2(self.ff(x2))\n",
        "        return x"
      ]
    },
    {
      "cell_type": "code",
      "execution_count": null,
      "metadata": {
        "id": "COFNbvfpdvEW"
      },
      "outputs": [],
      "source": [
        "class Encoder(nn.Module):\n",
        "    def __init__(self, vocab_size, d_model, N, heads):\n",
        "        super().__init__()\n",
        "        self.N = N\n",
        "        self.embed =  nn.Embedding(vocab_size, d_model)\n",
        "        self.pe = PositionalEncoder(d_model)\n",
        "        self.layers = get_clones(EncoderLayer(d_model, heads), N)\n",
        "        self.norm = nn.LayerNorm(d_model)\n",
        "    def forward(self, src, mask):\n",
        "        src = src.cuda()\n",
        "        x = self.embed(src)\n",
        "        x = self.pe(x)\n",
        "        for i in range(N):\n",
        "            x = self.layers[i](x, mask)\n",
        "        return self.norm(x)"
      ]
    },
    {
      "cell_type": "code",
      "execution_count": null,
      "metadata": {
        "id": "jB0r9hVBdvEV"
      },
      "outputs": [],
      "source": [
        "import copy\n",
        "\n",
        "def get_clones(module, N):\n",
        "    return torch.nn.ModuleList([copy.deepcopy(module) for i in range(N)])"
      ]
    },
    {
      "cell_type": "markdown",
      "metadata": {
        "id": "CzOWBBBLdvEU"
      },
      "source": [
        "### y el Decoder\n",
        "\n",
        "cada decoder contiene principalmente 2 capas de multi-head attention (1 enmascarada como se vio en el post) y una capa feed forward\n"
      ]
    },
    {
      "cell_type": "code",
      "execution_count": null,
      "metadata": {
        "id": "f2ve6ZltdvEU"
      },
      "outputs": [],
      "source": [
        "class DecoderLayer(nn.Module):\n",
        "    def __init__(self, d_model, heads, dropout=0.1):\n",
        "        super().__init__()\n",
        "        self.norm_1 = nn.LayerNorm(d_model)\n",
        "        self.norm_2 = nn.LayerNorm(d_model)\n",
        "        self.norm_3 = nn.LayerNorm(d_model)\n",
        "        \n",
        "        self.dropout_1 = nn.Dropout(dropout)\n",
        "        self.dropout_2 = nn.Dropout(dropout)\n",
        "        self.dropout_3 = nn.Dropout(dropout)\n",
        "        \n",
        "        self.attn_1 = MultiHeadAttention(heads, d_model)\n",
        "        self.attn_2 = MultiHeadAttention(heads, d_model)\n",
        "        self.ff = FeedForward(d_model).cuda()\n",
        "    def forward(self, x, e_outputs, src_mask, trg_mask):\n",
        "\n",
        "        x2 = self.norm_1(x)\n",
        "        x = x + self.dropout_1(self.attn_1(x2, x2, x2, trg_mask))\n",
        "        x2 = self.norm_2(x)\n",
        "        x = x + self.dropout_2(self.attn_2(x2, e_outputs, e_outputs,\n",
        "        src_mask))\n",
        "        x2 = self.norm_3(x)\n",
        "        x = x + self.dropout_3(self.ff(x2))\n",
        "        return x\n"
      ]
    },
    {
      "cell_type": "code",
      "execution_count": null,
      "metadata": {
        "id": "K4U6LfvXdvEX"
      },
      "outputs": [],
      "source": [
        "class Decoder(nn.Module):\n",
        "    def __init__(self, vocab_size, d_model, N, heads):\n",
        "        super().__init__()\n",
        "        self.N = N\n",
        "        self.embed = nn.Embedding(vocab_size, d_model)\n",
        "        self.pe = PositionalEncoder(d_model)\n",
        "        self.layers = get_clones(DecoderLayer(d_model, heads), N)\n",
        "        self.norm = nn.LayerNorm(d_model)\n",
        "    def forward(self, trg, e_outputs, src_mask, trg_mask):\n",
        "        trg = trg.cuda()\n",
        "        x = self.embed(trg)\n",
        "        x = self.pe(x)\n",
        "        for decoder in self.layers:\n",
        "            x = decoder(x, e_outputs, src_mask, trg_mask)\n",
        "        return self.norm(x)"
      ]
    },
    {
      "cell_type": "markdown",
      "metadata": {
        "id": "DkoRlTrEdvEY"
      },
      "source": [
        "## Ahora el Transformer Final es:"
      ]
    },
    {
      "cell_type": "code",
      "execution_count": null,
      "metadata": {
        "id": "sHBnt77idvEY"
      },
      "outputs": [],
      "source": [
        "class Transformer(nn.Module):\n",
        "    def __init__(self, src_vocab, trg_vocab, d_model, N, heads):\n",
        "        super().__init__()\n",
        "        self.encoder = Encoder(src_vocab, d_model, N, heads)\n",
        "        self.decoder = Decoder(trg_vocab, d_model, N, heads)\n",
        "        self.out = nn.Linear(d_model, trg_vocab)\n",
        "        self.apply(self._init_weights)\n",
        "      \n",
        "      #esto para inicializar los pesos\n",
        "    def _init_weights(self, module):\n",
        "        if isinstance(module, (nn.Linear, nn.Embedding)):\n",
        "            module.weight.data.normal_(mean=0.0, std=0.02)\n",
        "        \n",
        "        elif isinstance(module, nn.LayerNorm):\n",
        "            module.weight.data.fill_(1.0)\n",
        "\n",
        "        if isinstance(module, nn.Linear) and module.bias is not None:\n",
        "            module.bias.data.zero_()\n",
        "    def forward(self, src, trg, src_mask, trg_mask):\n",
        "        e_outputs = self.encoder(src, src_mask)\n",
        "        d_output = self.decoder(trg, e_outputs, src_mask, trg_mask)\n",
        "        output = self.out(d_output)\n",
        "        return output"
      ]
    },
    {
      "cell_type": "markdown",
      "metadata": {
        "id": "LrCWBqVjdvEq"
      },
      "source": [
        "# Entrenamiento y evaluación"
      ]
    },
    {
      "cell_type": "markdown",
      "source": [
        "Vamos a crear un transfomer con 1 Encoder y 1 Decoder"
      ],
      "metadata": {
        "id": "yDtZqRK8Pj-l"
      }
    },
    {
      "cell_type": "code",
      "execution_count": null,
      "metadata": {
        "id": "X6GWZPvsdvEq"
      },
      "outputs": [],
      "source": [
        "# Configuramos los parametros del modelo\n",
        "d_model = 256\n",
        "n_heads = 8\n",
        "N = 1\n",
        "\n",
        "src_vocab_size = len(word2idx_spa) +1\n",
        "trg_vocab_size = len(word2idx_eng) +1"
      ]
    },
    {
      "cell_type": "code",
      "execution_count": null,
      "metadata": {
        "id": "jNV4Ow8wdvEr"
      },
      "outputs": [],
      "source": [
        "# instaciamos el modelo con los parametros y lo enviamos a la GPU\n",
        "model = Transformer(src_vocab_size, trg_vocab_size, d_model, N, n_heads)\n",
        "model.cuda()"
      ]
    },
    {
      "cell_type": "code",
      "execution_count": null,
      "metadata": {
        "id": "a94wbmX_dvEs"
      },
      "outputs": [],
      "source": [
        "for p in model.parameters():\n",
        "    if p.dim() > 1:\n",
        "        torch.nn.init.xavier_uniform(p)"
      ]
    },
    {
      "cell_type": "code",
      "execution_count": null,
      "metadata": {
        "id": "idAWBVhNdvEs"
      },
      "outputs": [],
      "source": [
        "# Elegimos el optimizador a utilizar, en este caso el Adam con decaimiento\n",
        "optimizer = torch.optim.AdamW(model.parameters())"
      ]
    },
    {
      "cell_type": "code",
      "execution_count": null,
      "metadata": {
        "id": "dNFwSUCkdvEu"
      },
      "outputs": [],
      "source": [
        "import numpy as np\n",
        "import time\n",
        "\n",
        "\n",
        "def create_mask(src_input, trg_input):\n",
        "    # mascara de entrada para evitar el padding\n",
        "    pad = word2idx_spa[\"[PAD]\"]\n",
        "    src_mask = (src_input != pad).unsqueeze(1)\n",
        "    \n",
        "    # mascara de salida\n",
        "    trg_mask = (trg_input != pad).unsqueeze(1)\n",
        "    \n",
        "    seq_len = trg_input.size(1)\n",
        "    nopeak_mask = np.tril(np.ones((1, seq_len, seq_len)), k=0).astype('uint8')\n",
        "    nopeak_mask = torch.from_numpy(nopeak_mask) != 0\n",
        "    trg_mask = trg_mask & nopeak_mask\n",
        "    \n",
        "    return src_mask.cuda(), trg_mask.cuda()"
      ]
    },
    {
      "cell_type": "code",
      "source": [
        "def train(model, optimizer, criterion, iterator):\n",
        "    \n",
        "    model.train()\n",
        "    \n",
        "    epoch_loss = 0\n",
        "    \n",
        "    for i, batch in enumerate(iterator):\n",
        "        src_input = batch[0]# tamaño (batch_size, seq_len)\n",
        "        trg = batch[1]# tamaño (batch_size, seq_len)\n",
        "        \n",
        "        trg_input = trg[:, :-1]\n",
        "        ys = trg[:, 1:].contiguous().view(-1).cuda()\n",
        "        \n",
        "        # creamos las mascaras\n",
        "        src_mask, trg_mask = create_mask(src_input, trg_input)\n",
        "        preds = model(src_input, trg_input, src_mask, trg_mask)\n",
        "        # aplicamos el backpropagation\n",
        "        optimizer.zero_grad()\n",
        "        loss = criterion(preds.view(-1, preds.size(-1)), ys)\n",
        "        loss.backward()\n",
        "        # torch.nn.utils.clip_grad_norm_(model.parameters(), 1.0)\n",
        "        optimizer.step()\n",
        "        epoch_loss += loss.item()\n",
        "        \n",
        "    return epoch_loss / len(iterator)"
      ],
      "metadata": {
        "id": "NvmSaITRiQiv"
      },
      "execution_count": null,
      "outputs": []
    },
    {
      "cell_type": "code",
      "source": [
        "def evaluate(model, criterion, iterator):\n",
        "\n",
        "    model.eval()\n",
        "\n",
        "    epoch_loss = 0\n",
        "\n",
        "    with torch.no_grad():    \n",
        "        for i, batch in enumerate(iterator):\n",
        "          src_input = batch[0]# tamaño (batch_size, seq_len)\n",
        "          trg = batch[1]# tamaño (batch_size, seq_len)\n",
        "          \n",
        "          trg_input = trg[:, :-1]\n",
        "          ys = trg[:, 1:].contiguous().view(-1).cuda()\n",
        "          src_mask, trg_mask = create_mask(src_input, trg_input)\n",
        "          preds = model(src_input, trg_input, src_mask, trg_mask)\n",
        "          loss = criterion(preds.view(-1, preds.size(-1)), ys)\n",
        "          epoch_loss += loss.item()\n",
        "\n",
        "          if i%32 == 0:\n",
        "            for i in [5,12, 15]:\n",
        "              out = F.softmax(preds[i], dim=-1)\n",
        "              val, ix = out.data.topk(1)\n",
        "              print(\"Oración en Español: \",  seq2ws(src_input[i].tolist()))\n",
        "              print(\"Oración Real en Ingles: \", seq2we(trg_input[i].tolist()))\n",
        "              print(\"Oración Predicha en Ingles: \",seq2we([ix1[0] for ix1 in ix.tolist()]))\n",
        "              print(\"\\n\")\n",
        "\n",
        "    return epoch_loss / len(iterator)"
      ],
      "metadata": {
        "id": "-Fw8GNM0mc-E"
      },
      "execution_count": null,
      "outputs": []
    },
    {
      "cell_type": "code",
      "source": [
        "def translate(model, src, max_len = 80, custom_string=False):\n",
        "    \n",
        "    model.eval()\n",
        "\n",
        "    if custom_string == True:\n",
        "            src = tokenizer_es(src)\n",
        "            src=(torch.LongTensor([[word2idx_spa[tok] for tok in src]])).cuda()\n",
        "    src_mask = (src != word2idx_spa[\"[PAD]\"]).unsqueeze(-2)\n",
        "    e_outputs = model.encoder(src, src_mask)\n",
        "    \n",
        "    outputs = torch.zeros(max_len).type_as(src.data)\n",
        "    outputs[0] = torch.LongTensor([word2idx_eng['[SOS]']])\n",
        "    for i in range(1, max_len):    \n",
        "            \n",
        "        trg_mask = np.triu(np.ones((1, i, i))).astype('uint8')\n",
        "        trg_mask= (torch.from_numpy(trg_mask) == 0).cuda()\n",
        "        \n",
        "        out = model.out(model.decoder(outputs[:i].unsqueeze(0),\n",
        "        e_outputs, src_mask, trg_mask))\n",
        "        out = F.softmax(out, dim=-1)\n",
        "        val, ix = out[:, -1].data.topk(1)\n",
        "        \n",
        "        outputs[i] = ix[0][0]\n",
        "        if ix[0][0] == word2idx_eng['[EOS]']: # TRG.vocab.stoi['<eos>']:\n",
        "            break\n",
        "    return ' '.join( seq2we(outputs[:i].tolist()))"
      ],
      "metadata": {
        "id": "_mTV3eg1IAS8"
      },
      "execution_count": null,
      "outputs": []
    },
    {
      "cell_type": "code",
      "source": [
        "# Seleccionamos el cross entropy como nuestra funcion de perdida e ignoramos el padding\n",
        "criterion = nn.CrossEntropyLoss(ignore_index = word2idx_spa[\"[PAD]\"])"
      ],
      "metadata": {
        "id": "IA8oPPrWnMbB"
      },
      "execution_count": null,
      "outputs": []
    },
    {
      "cell_type": "markdown",
      "source": [
        "Al fin, entrenamos:"
      ],
      "metadata": {
        "id": "hvsKOWpoI1fA"
      }
    },
    {
      "cell_type": "code",
      "source": [
        "%%time\n",
        "def epoch_time(start_time, end_time):\n",
        "    elapsed_time = end_time - start_time\n",
        "    elapsed_mins = int(elapsed_time / 60)\n",
        "    elapsed_secs = int(elapsed_time - (elapsed_mins * 60))\n",
        "    return elapsed_mins, elapsed_secs\n",
        "\n",
        "N_EPOCHS = 7\n",
        "\n",
        "best_valid_loss = float('inf')\n",
        "\n",
        "for epoch in range(N_EPOCHS):\n",
        "    print(f'Epoch: {epoch+1:02}')\n",
        "\n",
        "    start_time = time.time()\n",
        "\n",
        "    train_loss = train(model, optimizer, criterion, train_loader)\n",
        "    valid_loss = evaluate(model, criterion, val_loader)\n",
        "\n",
        "    epoch_mins, epoch_secs = epoch_time(start_time, time.time())\n",
        "\n",
        "    if valid_loss < best_valid_loss:\n",
        "        best_valid_loss = valid_loss\n",
        "        # torch.save(model.state_dict(), 's2e_model.pt') # si quieres guardar el modelo\n",
        "\n",
        "    print(f'Time: {epoch_mins}m {epoch_secs}s')\n",
        "    print(f'Train Loss: {train_loss:.3f}')\n",
        "    print(f'Val   Loss: {valid_loss:.3f}')\n",
        "print(best_valid_loss)"
      ],
      "metadata": {
        "colab": {
          "base_uri": "https://localhost:8080/"
        },
        "id": "EXF7kiJ_m-d8",
        "outputId": "6ae5d3c5-31ed-4cf9-ed54-024a20b14b0f"
      },
      "execution_count": 173,
      "outputs": [
        {
          "metadata": {
            "tags": null
          },
          "name": "stdout",
          "output_type": "stream",
          "text": [
            "Epoch: 01\n",
            "Oración en Español:  ['las', 'malas', 'hierbas', 'aparecieron', 'súbitamente', 'en', 'el', 'jardín', '.', '[PAD]', '[PAD]', '[PAD]', '[PAD]', '[PAD]', '[PAD]', '[PAD]']\n",
            "Oración Real en Ingles:  ['[SOS]', 'weeds', 'sprang', 'up', 'in', 'the', 'garden', '.', '[EOS]', '[PAD]', '[PAD]', '[PAD]', '[PAD]', '[PAD]', '[PAD]', '[PAD]', '[PAD]', '[PAD]']\n",
            "Oración Predicha en Ingles:  ['the', 'is', 'out', 'in', 'the', 'garden', '.', '[EOS]', 'in', 'in', 'in', 'in', 'in', 'in', 'in', 'in', '.', '.']\n",
            "\n",
            "\n",
            "Oración en Español:  ['muéstrenme', 'el', 'dinero', '.', '[PAD]', '[PAD]', '[PAD]', '[PAD]', '[PAD]', '[PAD]', '[PAD]', '[PAD]', '[PAD]', '[PAD]', '[PAD]', '[PAD]']\n",
            "Oración Real en Ingles:  ['[SOS]', 'show', 'me', 'the', 'money', '.', '[EOS]', '[PAD]', '[PAD]', '[PAD]', '[PAD]', '[PAD]', '[PAD]', '[PAD]', '[PAD]', '[PAD]', '[PAD]', '[PAD]']\n",
            "Oración Predicha en Ingles:  ['i', 'me', 'the', 'money', '.', '[EOS]', '.', '.', '.', '.', '.', '.', '.', '.', '.', '.', '.', '.']\n",
            "\n",
            "\n",
            "Oración en Español:  ['tom', 'se', 'electrocutó', '.', '[PAD]', '[PAD]', '[PAD]', '[PAD]', '[PAD]', '[PAD]', '[PAD]', '[PAD]', '[PAD]', '[PAD]', '[PAD]', '[PAD]']\n",
            "Oración Real en Ingles:  ['[SOS]', 'tom', 'was', 'electrocuted', '.', '[EOS]', '[PAD]', '[PAD]', '[PAD]', '[PAD]', '[PAD]', '[PAD]', '[PAD]', '[PAD]', '[PAD]', '[PAD]', '[PAD]', '[PAD]']\n",
            "Oración Predicha en Ingles:  ['tom', 'confronted', 'reluctant', '.', '[EOS]', '.', '.', '.', '.', 'up', 'calmed', 'speechless', 'speechless', 'speechless', 'speechless', 'speechless', 'speechless', 'speechless']\n",
            "\n",
            "\n",
            "Oración en Español:  ['hubo', 'un', 'incendio', 'cerca', '.', '[PAD]', '[PAD]', '[PAD]', '[PAD]', '[PAD]', '[PAD]', '[PAD]', '[PAD]', '[PAD]', '[PAD]', '[PAD]', '[PAD]']\n",
            "Oración Real en Ingles:  ['[SOS]', 'a', 'fire', 'broke', 'out', 'nearby', '.', '[EOS]', '[PAD]', '[PAD]', '[PAD]', '[PAD]', '[PAD]', '[PAD]', '[PAD]']\n",
            "Oración Predicha en Ingles:  ['there', 'fire', 'has', '.', '.', '.', '[EOS]', '.', '.', '.', '.', '.', '.', '.', '.']\n",
            "\n",
            "\n",
            "Oración en Español:  ['la', 'anciana', 'se', 'cayó', 'y', 'no', 'pudo', 'levantarse', '.', '[PAD]', '[PAD]', '[PAD]', '[PAD]', '[PAD]', '[PAD]', '[PAD]', '[PAD]']\n",
            "Oración Real en Ingles:  ['[SOS]', 'the', 'old', 'woman', 'fell', 'and', 'could', 'not', 'get', 'up', '.', '[EOS]', '[PAD]', '[PAD]', '[PAD]']\n",
            "Oración Predicha en Ingles:  ['the', 'old', 'woman', 'fell', 'and', 'could', \"n't\", 'get', 'out', '.', '[EOS]', '.', '.', '.', '.']\n",
            "\n",
            "\n",
            "Oración en Español:  ['pensé', 'que', 'tom', 'estaba', 'de', 'vacaciones', '.', '[PAD]', '[PAD]', '[PAD]', '[PAD]', '[PAD]', '[PAD]', '[PAD]', '[PAD]', '[PAD]', '[PAD]']\n",
            "Oración Real en Ingles:  ['[SOS]', 'i', 'thought', 'tom', 'was', 'on', 'vacation', '.', '[EOS]', '[PAD]', '[PAD]', '[PAD]', '[PAD]', '[PAD]', '[PAD]']\n",
            "Oración Predicha en Ingles:  ['i', 'thought', 'tom', 'was', 'on', 'vacation', '.', '[EOS]', '.', '.', '.', '.', '.', '.', '.']\n",
            "\n",
            "\n",
            "Oración en Español:  ['¿', 'por', 'qué', 'sigues', 'dándole', 'dinero', '?', '[PAD]', '[PAD]', '[PAD]', '[PAD]', '[PAD]', '[PAD]', '[PAD]', '[PAD]', '[PAD]', '[PAD]', '[PAD]', '[PAD]', '[PAD]', '[PAD]']\n",
            "Oración Real en Ingles:  ['[SOS]', 'why', 'do', 'you', 'keep', 'giving', 'him', 'money', '?', '[EOS]', '[PAD]', '[PAD]', '[PAD]', '[PAD]', '[PAD]', '[PAD]', '[PAD]', '[PAD]', '[PAD]', '[PAD]', '[PAD]']\n",
            "Oración Predicha en Ingles:  ['why', 'do', 'you', 'still', 'your', 'money', '?', '?', '[EOS]', '?', '?', '?', '?', '?', '?', '?', '?', '?', '?', '?', '?']\n",
            "\n",
            "\n",
            "Oración en Español:  ['tom', 'nos', 'siguió', '.', '[PAD]', '[PAD]', '[PAD]', '[PAD]', '[PAD]', '[PAD]', '[PAD]', '[PAD]', '[PAD]', '[PAD]', '[PAD]', '[PAD]', '[PAD]', '[PAD]', '[PAD]', '[PAD]', '[PAD]']\n",
            "Oración Real en Ingles:  ['[SOS]', 'tom', 'followed', 'us', '.', '[EOS]', '[PAD]', '[PAD]', '[PAD]', '[PAD]', '[PAD]', '[PAD]', '[PAD]', '[PAD]', '[PAD]', '[PAD]', '[PAD]', '[PAD]', '[PAD]', '[PAD]', '[PAD]']\n",
            "Oración Predicha en Ingles:  ['tom', 'kept', 'us', '.', '[EOS]', '.', '.', '.', '.', 'kept', 'kept', 'us', '.', '.', '.', '.', '.', '.', '.', '.', '.']\n",
            "\n",
            "\n",
            "Oración en Español:  ['yo', 'averiguaré', 'finalmente', '.', '[PAD]', '[PAD]', '[PAD]', '[PAD]', '[PAD]', '[PAD]', '[PAD]', '[PAD]', '[PAD]', '[PAD]', '[PAD]', '[PAD]', '[PAD]', '[PAD]', '[PAD]', '[PAD]', '[PAD]']\n",
            "Oración Real en Ingles:  ['[SOS]', 'i', \"'ll\", 'find', 'out', 'eventually', '.', '[EOS]', '[PAD]', '[PAD]', '[PAD]', '[PAD]', '[PAD]', '[PAD]', '[PAD]', '[PAD]', '[PAD]', '[PAD]', '[PAD]', '[PAD]', '[PAD]']\n",
            "Oración Predicha en Ingles:  ['i', 'could', 'find', 'out', '.', '.', '[EOS]', '.', '.', '.', '.', '.', '.', '.', '.', '.', '.', '.', '.', '.', '.']\n",
            "\n",
            "\n",
            "Oración en Español:  ['a', 'mi', 'mujer', 'le', 'gusta', 'mucho', 'la', 'tarta', 'de', 'manzana', '.', '[PAD]', '[PAD]', '[PAD]', '[PAD]', '[PAD]', '[PAD]', '[PAD]', '[PAD]', '[PAD]', '[PAD]', '[PAD]', '[PAD]', '[PAD]', '[PAD]', '[PAD]', '[PAD]', '[PAD]', '[PAD]', '[PAD]', '[PAD]', '[PAD]', '[PAD]', '[PAD]', '[PAD]', '[PAD]', '[PAD]', '[PAD]', '[PAD]', '[PAD]', '[PAD]', '[PAD]', '[PAD]', '[PAD]', '[PAD]', '[PAD]', '[PAD]']\n",
            "Oración Real en Ingles:  ['[SOS]', 'my', 'wife', 'loves', 'apple', 'pie', '.', '[EOS]', '[PAD]', '[PAD]', '[PAD]', '[PAD]', '[PAD]', '[PAD]', '[PAD]', '[PAD]', '[PAD]', '[PAD]', '[PAD]', '[PAD]', '[PAD]', '[PAD]', '[PAD]', '[PAD]', '[PAD]', '[PAD]', '[PAD]', '[PAD]', '[PAD]', '[PAD]', '[PAD]', '[PAD]', '[PAD]', '[PAD]', '[PAD]', '[PAD]', '[PAD]', '[PAD]', '[PAD]', '[PAD]', '[PAD]', '[PAD]', '[PAD]', '[PAD]', '[PAD]', '[PAD]', '[PAD]', '[PAD]']\n",
            "Oración Predicha en Ingles:  ['my', 'wife', 'likes', 'a', 'a', 'a', '[EOS]', 'a', 'a', 'a', 'a', 'a', 'a', 'a', 'a', 'a', 'a', '.', '.', '.', '.', '.', '.', 'a', 'a', 'a', 'a', 'a', 'a', 'a', 'a', 'a', 'a', 'a', 'a', 'a', 'a', '.', 'a', 'a', 'a', 'a', 'a', 'a', 'a', 'a', 'a', 'a']\n",
            "\n",
            "\n",
            "Oración en Español:  ['él', 'nunca', 'sale', 'después', 'del', 'anochecer', '.', '[PAD]', '[PAD]', '[PAD]', '[PAD]', '[PAD]', '[PAD]', '[PAD]', '[PAD]', '[PAD]', '[PAD]', '[PAD]', '[PAD]', '[PAD]', '[PAD]', '[PAD]', '[PAD]', '[PAD]', '[PAD]', '[PAD]', '[PAD]', '[PAD]', '[PAD]', '[PAD]', '[PAD]', '[PAD]', '[PAD]', '[PAD]', '[PAD]', '[PAD]', '[PAD]', '[PAD]', '[PAD]', '[PAD]', '[PAD]', '[PAD]', '[PAD]', '[PAD]', '[PAD]', '[PAD]', '[PAD]']\n",
            "Oración Real en Ingles:  ['[SOS]', 'he', 'never', 'goes', 'out', 'after', 'dark', '.', '[EOS]', '[PAD]', '[PAD]', '[PAD]', '[PAD]', '[PAD]', '[PAD]', '[PAD]', '[PAD]', '[PAD]', '[PAD]', '[PAD]', '[PAD]', '[PAD]', '[PAD]', '[PAD]', '[PAD]', '[PAD]', '[PAD]', '[PAD]', '[PAD]', '[PAD]', '[PAD]', '[PAD]', '[PAD]', '[PAD]', '[PAD]', '[PAD]', '[PAD]', '[PAD]', '[PAD]', '[PAD]', '[PAD]', '[PAD]', '[PAD]', '[PAD]', '[PAD]', '[PAD]', '[PAD]', '[PAD]']\n",
            "Oración Predicha en Ingles:  ['he', 'never', 'leaves', 'out', 'after', 'he', '.', '[EOS]', '.', '.', '.', '.', '.', '.', '.', '.', '.', '.', '.', '.', '.', '.', '.', '.', '.', '.', '.', '.', '.', '.', '.', '.', '.', '.', '.', '.', '.', '.', '.', '.', '.', '.', '.', '.', '.', '.', '.', '.']\n",
            "\n",
            "\n",
            "Oración en Español:  ['los', 'leones', 'rugían', 'en', 'sus', 'jaulas', '.', '[PAD]', '[PAD]', '[PAD]', '[PAD]', '[PAD]', '[PAD]', '[PAD]', '[PAD]', '[PAD]', '[PAD]', '[PAD]', '[PAD]', '[PAD]', '[PAD]', '[PAD]', '[PAD]', '[PAD]', '[PAD]', '[PAD]', '[PAD]', '[PAD]', '[PAD]', '[PAD]', '[PAD]', '[PAD]', '[PAD]', '[PAD]', '[PAD]', '[PAD]', '[PAD]', '[PAD]', '[PAD]', '[PAD]', '[PAD]', '[PAD]', '[PAD]', '[PAD]', '[PAD]', '[PAD]', '[PAD]']\n",
            "Oración Real en Ingles:  ['[SOS]', 'the', 'lions', 'roared', 'in', 'their', 'cages', '.', '[EOS]', '[PAD]', '[PAD]', '[PAD]', '[PAD]', '[PAD]', '[PAD]', '[PAD]', '[PAD]', '[PAD]', '[PAD]', '[PAD]', '[PAD]', '[PAD]', '[PAD]', '[PAD]', '[PAD]', '[PAD]', '[PAD]', '[PAD]', '[PAD]', '[PAD]', '[PAD]', '[PAD]', '[PAD]', '[PAD]', '[PAD]', '[PAD]', '[PAD]', '[PAD]', '[PAD]', '[PAD]', '[PAD]', '[PAD]', '[PAD]', '[PAD]', '[PAD]', '[PAD]', '[PAD]', '[PAD]']\n",
            "Oración Predicha en Ingles:  ['the', 'himalayas', 'are', 'in', 'your', 'age', '.', '[EOS]', '.', '.', '.', '.', '.', '.', '.', '.', '.', '.', '.', '.', '.', '.', '.', '.', '.', '.', '.', '.', '.', '.', '.', '.', '.', '.', '.', '.', '.', '.', '.', '.', '.', '.', '.', '.', '.', '.', '.', '.']\n",
            "\n",
            "\n",
            "Oración en Español:  ['tom', 'llenó', 'la', 'carretilla', 'con', 'arena', '.', '[PAD]', '[PAD]', '[PAD]', '[PAD]', '[PAD]', '[PAD]']\n",
            "Oración Real en Ingles:  ['[SOS]', 'tom', 'filled', 'the', 'wheelbarrow', 'with', 'sand', '.', '[EOS]', '[PAD]', '[PAD]', '[PAD]', '[PAD]', '[PAD]', '[PAD]', '[PAD]', '[PAD]']\n",
            "Oración Predicha en Ingles:  ['tom', 'filled', 'the', 'embassy', 'with', 'sand', '.', '[EOS]', '.', '.', '.', '.', '.', '.', '.', '.', '.']\n",
            "\n",
            "\n",
            "Oración en Español:  ['¿', 'estás', 'diciendo', 'que', 'soy', 'una', 'mentirosa', '?', '[PAD]', '[PAD]', '[PAD]', '[PAD]', '[PAD]']\n",
            "Oración Real en Ingles:  ['[SOS]', 'are', 'you', 'saying', 'that', 'i', \"'m\", 'a', 'liar', '?', '[EOS]', '[PAD]', '[PAD]', '[PAD]', '[PAD]', '[PAD]', '[PAD]']\n",
            "Oración Predicha en Ingles:  ['are', 'you', 'saying', 'that', 'i', \"'m\", 'a', 'liar', '?', '[EOS]', '?', '?', '?', '?', '?', '?', '?']\n",
            "\n",
            "\n",
            "Oración en Español:  ['el', 'juez', 'lo', 'sentenció', 'a', 'un', 'año', 'de', 'prisión', '.', '[PAD]', '[PAD]', '[PAD]']\n",
            "Oración Real en Ingles:  ['[SOS]', 'the', 'judge', 'sentenced', 'him', 'to', 'a', 'year', 'in', 'prison', '.', '[EOS]', '[PAD]', '[PAD]', '[PAD]', '[PAD]', '[PAD]']\n",
            "Oración Predicha en Ingles:  ['the', 'judge', 'gave', 'was', 'a', 'a', 'year', 'in', 'prison', '.', '[EOS]', '.', '.', '.', '.', '.', '.']\n",
            "\n",
            "\n",
            "Oración en Español:  ['su', 'respuesta', 'es', 'incorrecta', '.', '[PAD]', '[PAD]', '[PAD]', '[PAD]', '[PAD]', '[PAD]', '[PAD]', '[PAD]', '[PAD]', '[PAD]', '[PAD]', '[PAD]', '[PAD]', '[PAD]', '[PAD]', '[PAD]', '[PAD]', '[PAD]', '[PAD]']\n",
            "Oración Real en Ingles:  ['[SOS]', 'your', 'answer', 'is', 'incorrect', '.', '[EOS]', '[PAD]', '[PAD]', '[PAD]', '[PAD]', '[PAD]', '[PAD]', '[PAD]', '[PAD]', '[PAD]', '[PAD]', '[PAD]', '[PAD]', '[PAD]', '[PAD]', '[PAD]', '[PAD]', '[PAD]', '[PAD]', '[PAD]', '[PAD]']\n",
            "Oración Predicha en Ingles:  ['his', 'answer', 'is', 'incorrect', '.', '[EOS]', '.', '.', '.', '.', '.', '.', '.', '.', '.', '.', '.', '.', '.', '.', '.', '.', '.', '.', '.', '.', '.']\n",
            "\n",
            "\n",
            "Oración en Español:  ['no', 'pudo', 'creer', 'que', 'no', 'estés', 'tan', 'emocionado', 'como', 'yo', '.', '[PAD]', '[PAD]', '[PAD]', '[PAD]', '[PAD]', '[PAD]', '[PAD]', '[PAD]', '[PAD]', '[PAD]', '[PAD]', '[PAD]', '[PAD]']\n",
            "Oración Real en Ingles:  ['[SOS]', 'i', 'ca', \"n't\", 'believe', 'you', \"'re\", 'not', 'as', 'excited', 'as', 'i', 'am', '.', '[EOS]', '[PAD]', '[PAD]', '[PAD]', '[PAD]', '[PAD]', '[PAD]', '[PAD]', '[PAD]', '[PAD]', '[PAD]', '[PAD]', '[PAD]']\n",
            "Oración Predicha en Ingles:  ['you', 'could', \"n't\", 'believe', 'you', \"'re\", 'not', 'so', 'not', '.', 'i', 'do', '.', '[EOS]', '.', '.', '.', '.', '.', '.', '.', '.', '.', '.', '.', '.', '.']\n",
            "\n",
            "\n",
            "Oración en Español:  ['estás', 'cometiendo', 'un', 'gran', 'error', 'aquí', '.', '[PAD]', '[PAD]', '[PAD]', '[PAD]', '[PAD]', '[PAD]', '[PAD]', '[PAD]', '[PAD]', '[PAD]', '[PAD]', '[PAD]', '[PAD]', '[PAD]', '[PAD]', '[PAD]', '[PAD]']\n",
            "Oración Real en Ingles:  ['[SOS]', 'you', \"'re\", 'making', 'a', 'big', 'mistake', 'here', '.', '[EOS]', '[PAD]', '[PAD]', '[PAD]', '[PAD]', '[PAD]', '[PAD]', '[PAD]', '[PAD]', '[PAD]', '[PAD]', '[PAD]', '[PAD]', '[PAD]', '[PAD]', '[PAD]', '[PAD]', '[PAD]']\n",
            "Oración Predicha en Ingles:  ['you', \"'re\", 'making', 'a', 'large', 'mistake', 'here', '.', '[EOS]', 'here', 'here', 'here', 'here', 'here', 'here', 'here', 'here', 'here', 'here', 'here', 'here', 'here', 'here', 'here', 'here', 'here', 'here']\n",
            "\n",
            "\n",
            "Time: 1m 40s\n",
            "Train Loss: 2.484\n",
            "Val   Loss: 1.505\n",
            "Epoch: 02\n",
            "Oración en Español:  ['las', 'malas', 'hierbas', 'aparecieron', 'súbitamente', 'en', 'el', 'jardín', '.', '[PAD]', '[PAD]', '[PAD]', '[PAD]', '[PAD]', '[PAD]', '[PAD]']\n",
            "Oración Real en Ingles:  ['[SOS]', 'weeds', 'sprang', 'up', 'in', 'the', 'garden', '.', '[EOS]', '[PAD]', '[PAD]', '[PAD]', '[PAD]', '[PAD]', '[PAD]', '[PAD]', '[PAD]', '[PAD]']\n",
            "Oración Predicha en Ingles:  ['the', 'in', 'up', 'in', 'the', 'garden', '.', '[EOS]', '.', '.', '.', '.', '.', '.', '.', '.', '.', '.']\n",
            "\n",
            "\n",
            "Oración en Español:  ['muéstrenme', 'el', 'dinero', '.', '[PAD]', '[PAD]', '[PAD]', '[PAD]', '[PAD]', '[PAD]', '[PAD]', '[PAD]', '[PAD]', '[PAD]', '[PAD]', '[PAD]']\n",
            "Oración Real en Ingles:  ['[SOS]', 'show', 'me', 'the', 'money', '.', '[EOS]', '[PAD]', '[PAD]', '[PAD]', '[PAD]', '[PAD]', '[PAD]', '[PAD]', '[PAD]', '[PAD]', '[PAD]', '[PAD]']\n",
            "Oración Predicha en Ingles:  ['let', 'me', 'the', 'money', '.', '[EOS]', '.', '.', '.', '.', '.', '.', '.', '.', '.', '.', '.', '.']\n",
            "\n",
            "\n",
            "Oración en Español:  ['tom', 'se', 'electrocutó', '.', '[PAD]', '[PAD]', '[PAD]', '[PAD]', '[PAD]', '[PAD]', '[PAD]', '[PAD]', '[PAD]', '[PAD]', '[PAD]', '[PAD]']\n",
            "Oración Real en Ingles:  ['[SOS]', 'tom', 'was', 'electrocuted', '.', '[EOS]', '[PAD]', '[PAD]', '[PAD]', '[PAD]', '[PAD]', '[PAD]', '[PAD]', '[PAD]', '[PAD]', '[PAD]', '[PAD]', '[PAD]']\n",
            "Oración Predicha en Ingles:  ['tom', 'buttoned', 'soaked', '.', '[EOS]', '.', '.', '.', '.', '.', '.', '.', '.', '.', '.', '.', '.', '.']\n",
            "\n",
            "\n",
            "Oración en Español:  ['hubo', 'un', 'incendio', 'cerca', '.', '[PAD]', '[PAD]', '[PAD]', '[PAD]', '[PAD]', '[PAD]', '[PAD]', '[PAD]', '[PAD]', '[PAD]', '[PAD]', '[PAD]']\n",
            "Oración Real en Ingles:  ['[SOS]', 'a', 'fire', 'broke', 'out', 'nearby', '.', '[EOS]', '[PAD]', '[PAD]', '[PAD]', '[PAD]', '[PAD]', '[PAD]', '[PAD]']\n",
            "Oración Predicha en Ingles:  ['there', 'fire', 'near', 'out', '.', '.', '[EOS]', '.', '.', '.', '.', '.', '.', '.', '.']\n",
            "\n",
            "\n",
            "Oración en Español:  ['la', 'anciana', 'se', 'cayó', 'y', 'no', 'pudo', 'levantarse', '.', '[PAD]', '[PAD]', '[PAD]', '[PAD]', '[PAD]', '[PAD]', '[PAD]', '[PAD]']\n",
            "Oración Real en Ingles:  ['[SOS]', 'the', 'old', 'woman', 'fell', 'and', 'could', 'not', 'get', 'up', '.', '[EOS]', '[PAD]', '[PAD]', '[PAD]']\n",
            "Oración Predicha en Ingles:  ['the', 'old', 'woman', 'fell', 'and', 'could', \"n't\", 'get', 'up', '.', '[EOS]', '.', '.', '.', '.']\n",
            "\n",
            "\n",
            "Oración en Español:  ['pensé', 'que', 'tom', 'estaba', 'de', 'vacaciones', '.', '[PAD]', '[PAD]', '[PAD]', '[PAD]', '[PAD]', '[PAD]', '[PAD]', '[PAD]', '[PAD]', '[PAD]']\n",
            "Oración Real en Ingles:  ['[SOS]', 'i', 'thought', 'tom', 'was', 'on', 'vacation', '.', '[EOS]', '[PAD]', '[PAD]', '[PAD]', '[PAD]', '[PAD]', '[PAD]']\n",
            "Oración Predicha en Ingles:  ['i', 'thought', 'tom', 'was', 'on', 'holiday', '.', '[EOS]', '.', '.', '.', '.', '.', '.', '.']\n",
            "\n",
            "\n",
            "Oración en Español:  ['¿', 'por', 'qué', 'sigues', 'dándole', 'dinero', '?', '[PAD]', '[PAD]', '[PAD]', '[PAD]', '[PAD]', '[PAD]', '[PAD]', '[PAD]', '[PAD]', '[PAD]', '[PAD]', '[PAD]', '[PAD]', '[PAD]']\n",
            "Oración Real en Ingles:  ['[SOS]', 'why', 'do', 'you', 'keep', 'giving', 'him', 'money', '?', '[EOS]', '[PAD]', '[PAD]', '[PAD]', '[PAD]', '[PAD]', '[PAD]', '[PAD]', '[PAD]', '[PAD]', '[PAD]', '[PAD]']\n",
            "Oración Predicha en Ingles:  ['why', 'do', 'you', 'still', 'your', 'money', 'any', '?', '[EOS]', '?', '?', '?', '?', '?', '?', '?', '?', '?', '?', '?', '?']\n",
            "\n",
            "\n",
            "Oración en Español:  ['tom', 'nos', 'siguió', '.', '[PAD]', '[PAD]', '[PAD]', '[PAD]', '[PAD]', '[PAD]', '[PAD]', '[PAD]', '[PAD]', '[PAD]', '[PAD]', '[PAD]', '[PAD]', '[PAD]', '[PAD]', '[PAD]', '[PAD]']\n",
            "Oración Real en Ingles:  ['[SOS]', 'tom', 'followed', 'us', '.', '[EOS]', '[PAD]', '[PAD]', '[PAD]', '[PAD]', '[PAD]', '[PAD]', '[PAD]', '[PAD]', '[PAD]', '[PAD]', '[PAD]', '[PAD]', '[PAD]', '[PAD]', '[PAD]']\n",
            "Oración Predicha en Ingles:  ['tom', 'followed', 'us', '.', '[EOS]', '.', '.', '.', '.', 'us', 'us', 'us', 'us', '.', '.', '.', '.', '.', '.', '.', '.']\n",
            "\n",
            "\n",
            "Oración en Español:  ['yo', 'averiguaré', 'finalmente', '.', '[PAD]', '[PAD]', '[PAD]', '[PAD]', '[PAD]', '[PAD]', '[PAD]', '[PAD]', '[PAD]', '[PAD]', '[PAD]', '[PAD]', '[PAD]', '[PAD]', '[PAD]', '[PAD]', '[PAD]']\n",
            "Oración Real en Ingles:  ['[SOS]', 'i', \"'ll\", 'find', 'out', 'eventually', '.', '[EOS]', '[PAD]', '[PAD]', '[PAD]', '[PAD]', '[PAD]', '[PAD]', '[PAD]', '[PAD]', '[PAD]', '[PAD]', '[PAD]', '[PAD]', '[PAD]']\n",
            "Oración Predicha en Ingles:  ['i', \"'ll\", 'find', 'out', '.', '.', '[EOS]', '.', '.', '.', '.', '.', '.', '.', '.', '.', '.', '.', '.', '.', '.']\n",
            "\n",
            "\n",
            "Oración en Español:  ['a', 'mi', 'mujer', 'le', 'gusta', 'mucho', 'la', 'tarta', 'de', 'manzana', '.', '[PAD]', '[PAD]', '[PAD]', '[PAD]', '[PAD]', '[PAD]', '[PAD]', '[PAD]', '[PAD]', '[PAD]', '[PAD]', '[PAD]', '[PAD]', '[PAD]', '[PAD]', '[PAD]', '[PAD]', '[PAD]', '[PAD]', '[PAD]', '[PAD]', '[PAD]', '[PAD]', '[PAD]', '[PAD]', '[PAD]', '[PAD]', '[PAD]', '[PAD]', '[PAD]', '[PAD]', '[PAD]', '[PAD]', '[PAD]', '[PAD]', '[PAD]']\n",
            "Oración Real en Ingles:  ['[SOS]', 'my', 'wife', 'loves', 'apple', 'pie', '.', '[EOS]', '[PAD]', '[PAD]', '[PAD]', '[PAD]', '[PAD]', '[PAD]', '[PAD]', '[PAD]', '[PAD]', '[PAD]', '[PAD]', '[PAD]', '[PAD]', '[PAD]', '[PAD]', '[PAD]', '[PAD]', '[PAD]', '[PAD]', '[PAD]', '[PAD]', '[PAD]', '[PAD]', '[PAD]', '[PAD]', '[PAD]', '[PAD]', '[PAD]', '[PAD]', '[PAD]', '[PAD]', '[PAD]', '[PAD]', '[PAD]', '[PAD]', '[PAD]', '[PAD]', '[PAD]', '[PAD]', '[PAD]']\n",
            "Oración Predicha en Ingles:  ['my', 'wife', 'likes', 'apple', 'apple', 'very', '[EOS]', 'apple', 'apple', 'apple', 'apple', 'apple', 'apple', 'apple', '.', '.', '.', '.', 'a', 'apple', '.', '.', '.', '.', '.', '.', 'apple', 'apple', 'apple', '.', '.', '.', '.', 'apple', 'apple', '.', 'a', 'apple', 'apple', 'apple', 'apple', 'apple', 'apple', 'apple', 'apple', 'apple', 'apple', 'apple']\n",
            "\n",
            "\n",
            "Oración en Español:  ['él', 'nunca', 'sale', 'después', 'del', 'anochecer', '.', '[PAD]', '[PAD]', '[PAD]', '[PAD]', '[PAD]', '[PAD]', '[PAD]', '[PAD]', '[PAD]', '[PAD]', '[PAD]', '[PAD]', '[PAD]', '[PAD]', '[PAD]', '[PAD]', '[PAD]', '[PAD]', '[PAD]', '[PAD]', '[PAD]', '[PAD]', '[PAD]', '[PAD]', '[PAD]', '[PAD]', '[PAD]', '[PAD]', '[PAD]', '[PAD]', '[PAD]', '[PAD]', '[PAD]', '[PAD]', '[PAD]', '[PAD]', '[PAD]', '[PAD]', '[PAD]', '[PAD]']\n",
            "Oración Real en Ingles:  ['[SOS]', 'he', 'never', 'goes', 'out', 'after', 'dark', '.', '[EOS]', '[PAD]', '[PAD]', '[PAD]', '[PAD]', '[PAD]', '[PAD]', '[PAD]', '[PAD]', '[PAD]', '[PAD]', '[PAD]', '[PAD]', '[PAD]', '[PAD]', '[PAD]', '[PAD]', '[PAD]', '[PAD]', '[PAD]', '[PAD]', '[PAD]', '[PAD]', '[PAD]', '[PAD]', '[PAD]', '[PAD]', '[PAD]', '[PAD]', '[PAD]', '[PAD]', '[PAD]', '[PAD]', '[PAD]', '[PAD]', '[PAD]', '[PAD]', '[PAD]', '[PAD]', '[PAD]']\n",
            "Oración Predicha en Ingles:  ['he', 'never', 'leaves', 'out', 'after', 'dark', '.', '[EOS]', '.', '.', '.', '.', '.', '.', '.', '.', '.', '.', '.', '.', '.', '.', '.', '.', '.', '.', '.', '.', '.', '.', '.', '.', '.', '.', '.', '.', '.', '.', '.', '.', '.', '.', '.', '.', '.', '.', '.', '.']\n",
            "\n",
            "\n",
            "Oración en Español:  ['los', 'leones', 'rugían', 'en', 'sus', 'jaulas', '.', '[PAD]', '[PAD]', '[PAD]', '[PAD]', '[PAD]', '[PAD]', '[PAD]', '[PAD]', '[PAD]', '[PAD]', '[PAD]', '[PAD]', '[PAD]', '[PAD]', '[PAD]', '[PAD]', '[PAD]', '[PAD]', '[PAD]', '[PAD]', '[PAD]', '[PAD]', '[PAD]', '[PAD]', '[PAD]', '[PAD]', '[PAD]', '[PAD]', '[PAD]', '[PAD]', '[PAD]', '[PAD]', '[PAD]', '[PAD]', '[PAD]', '[PAD]', '[PAD]', '[PAD]', '[PAD]', '[PAD]']\n",
            "Oración Real en Ingles:  ['[SOS]', 'the', 'lions', 'roared', 'in', 'their', 'cages', '.', '[EOS]', '[PAD]', '[PAD]', '[PAD]', '[PAD]', '[PAD]', '[PAD]', '[PAD]', '[PAD]', '[PAD]', '[PAD]', '[PAD]', '[PAD]', '[PAD]', '[PAD]', '[PAD]', '[PAD]', '[PAD]', '[PAD]', '[PAD]', '[PAD]', '[PAD]', '[PAD]', '[PAD]', '[PAD]', '[PAD]', '[PAD]', '[PAD]', '[PAD]', '[PAD]', '[PAD]', '[PAD]', '[PAD]', '[PAD]', '[PAD]', '[PAD]', '[PAD]', '[PAD]', '[PAD]', '[PAD]']\n",
            "Oración Predicha en Ingles:  ['the', 'reporters', 'are', 'in', 'his', 'profession', '.', '[EOS]', '.', '.', '.', '.', '.', '.', '.', '.', '.', '.', '.', '.', '.', '.', '.', '.', '.', '.', '.', '.', '.', '.', '.', '.', '.', '.', '.', '.', '.', '.', '.', '.', '.', '.', '.', '.', '.', '.', '.', '.']\n",
            "\n",
            "\n",
            "Oración en Español:  ['tom', 'llenó', 'la', 'carretilla', 'con', 'arena', '.', '[PAD]', '[PAD]', '[PAD]', '[PAD]', '[PAD]', '[PAD]']\n",
            "Oración Real en Ingles:  ['[SOS]', 'tom', 'filled', 'the', 'wheelbarrow', 'with', 'sand', '.', '[EOS]', '[PAD]', '[PAD]', '[PAD]', '[PAD]', '[PAD]', '[PAD]', '[PAD]', '[PAD]']\n",
            "Oración Predicha en Ingles:  ['tom', 'filled', 'the', 'sand', 'with', 'sand', '.', '[EOS]', '.', '.', '.', '.', '.', '.', '.', '.', '.']\n",
            "\n",
            "\n",
            "Oración en Español:  ['¿', 'estás', 'diciendo', 'que', 'soy', 'una', 'mentirosa', '?', '[PAD]', '[PAD]', '[PAD]', '[PAD]', '[PAD]']\n",
            "Oración Real en Ingles:  ['[SOS]', 'are', 'you', 'saying', 'that', 'i', \"'m\", 'a', 'liar', '?', '[EOS]', '[PAD]', '[PAD]', '[PAD]', '[PAD]', '[PAD]', '[PAD]']\n",
            "Oración Predicha en Ingles:  ['are', 'you', 'saying', 'i', 'i', \"'m\", 'a', 'liar', '?', '[EOS]', '?', '?', '?', '?', '?', '?', '?']\n",
            "\n",
            "\n",
            "Oración en Español:  ['el', 'juez', 'lo', 'sentenció', 'a', 'un', 'año', 'de', 'prisión', '.', '[PAD]', '[PAD]', '[PAD]']\n",
            "Oración Real en Ingles:  ['[SOS]', 'the', 'judge', 'sentenced', 'him', 'to', 'a', 'year', 'in', 'prison', '.', '[EOS]', '[PAD]', '[PAD]', '[PAD]', '[PAD]', '[PAD]']\n",
            "Oración Predicha en Ingles:  ['the', 'judge', 'condemned', 'him', 'to', 'a', 'year', '.', 'prison', '.', '[EOS]', '.', '.', '.', '.', '.', '.']\n",
            "\n",
            "\n",
            "Oración en Español:  ['su', 'respuesta', 'es', 'incorrecta', '.', '[PAD]', '[PAD]', '[PAD]', '[PAD]', '[PAD]', '[PAD]', '[PAD]', '[PAD]', '[PAD]', '[PAD]', '[PAD]', '[PAD]', '[PAD]', '[PAD]', '[PAD]', '[PAD]', '[PAD]', '[PAD]', '[PAD]']\n",
            "Oración Real en Ingles:  ['[SOS]', 'your', 'answer', 'is', 'incorrect', '.', '[EOS]', '[PAD]', '[PAD]', '[PAD]', '[PAD]', '[PAD]', '[PAD]', '[PAD]', '[PAD]', '[PAD]', '[PAD]', '[PAD]', '[PAD]', '[PAD]', '[PAD]', '[PAD]', '[PAD]', '[PAD]', '[PAD]', '[PAD]', '[PAD]']\n",
            "Oración Predicha en Ingles:  ['his', 'answer', 'is', 'incorrect', '.', '[EOS]', '.', '.', '.', '.', '.', '.', '.', '.', '.', '.', '.', '.', '.', '.', '.', '.', '.', '.', '.', '.', '.']\n",
            "\n",
            "\n",
            "Oración en Español:  ['no', 'pudo', 'creer', 'que', 'no', 'estés', 'tan', 'emocionado', 'como', 'yo', '.', '[PAD]', '[PAD]', '[PAD]', '[PAD]', '[PAD]', '[PAD]', '[PAD]', '[PAD]', '[PAD]', '[PAD]', '[PAD]', '[PAD]', '[PAD]']\n",
            "Oración Real en Ingles:  ['[SOS]', 'i', 'ca', \"n't\", 'believe', 'you', \"'re\", 'not', 'as', 'excited', 'as', 'i', 'am', '.', '[EOS]', '[PAD]', '[PAD]', '[PAD]', '[PAD]', '[PAD]', '[PAD]', '[PAD]', '[PAD]', '[PAD]', '[PAD]', '[PAD]', '[PAD]']\n",
            "Oración Predicha en Ingles:  ['he', 'could', \"n't\", 'believe', 'you', \"'re\", 'not', 'as', 'excited', '.', 'i', 'am', '.', '[EOS]', '.', '.', '.', '.', '.', '.', '.', '.', '.', '.', '.', '.', '.']\n",
            "\n",
            "\n",
            "Oración en Español:  ['estás', 'cometiendo', 'un', 'gran', 'error', 'aquí', '.', '[PAD]', '[PAD]', '[PAD]', '[PAD]', '[PAD]', '[PAD]', '[PAD]', '[PAD]', '[PAD]', '[PAD]', '[PAD]', '[PAD]', '[PAD]', '[PAD]', '[PAD]', '[PAD]', '[PAD]']\n",
            "Oración Real en Ingles:  ['[SOS]', 'you', \"'re\", 'making', 'a', 'big', 'mistake', 'here', '.', '[EOS]', '[PAD]', '[PAD]', '[PAD]', '[PAD]', '[PAD]', '[PAD]', '[PAD]', '[PAD]', '[PAD]', '[PAD]', '[PAD]', '[PAD]', '[PAD]', '[PAD]', '[PAD]', '[PAD]', '[PAD]']\n",
            "Oración Predicha en Ingles:  ['you', \"'re\", 'making', 'a', 'big', 'mistake', 'here', '.', '[EOS]', '.', '.', '.', '.', '.', '.', '.', '.', '.', '.', '.', '.', '.', '.', '.', '.', '.', '.']\n",
            "\n",
            "\n",
            "Time: 1m 40s\n",
            "Train Loss: 1.221\n",
            "Val   Loss: 1.212\n",
            "Epoch: 03\n",
            "Oración en Español:  ['las', 'malas', 'hierbas', 'aparecieron', 'súbitamente', 'en', 'el', 'jardín', '.', '[PAD]', '[PAD]', '[PAD]', '[PAD]', '[PAD]', '[PAD]', '[PAD]']\n",
            "Oración Real en Ingles:  ['[SOS]', 'weeds', 'sprang', 'up', 'in', 'the', 'garden', '.', '[EOS]', '[PAD]', '[PAD]', '[PAD]', '[PAD]', '[PAD]', '[PAD]', '[PAD]', '[PAD]', '[PAD]']\n",
            "Oración Predicha en Ingles:  ['the', 'in', 'out', 'suddenly', 'the', 'garden', 'in', '[EOS]', 'in', '.', '.', '.', 'in', 'up', 'up', 'in', 'in', 'in']\n",
            "\n",
            "\n",
            "Oración en Español:  ['muéstrenme', 'el', 'dinero', '.', '[PAD]', '[PAD]', '[PAD]', '[PAD]', '[PAD]', '[PAD]', '[PAD]', '[PAD]', '[PAD]', '[PAD]', '[PAD]', '[PAD]']\n",
            "Oración Real en Ingles:  ['[SOS]', 'show', 'me', 'the', 'money', '.', '[EOS]', '[PAD]', '[PAD]', '[PAD]', '[PAD]', '[PAD]', '[PAD]', '[PAD]', '[PAD]', '[PAD]', '[PAD]', '[PAD]']\n",
            "Oración Predicha en Ingles:  ['let', 'up', 'the', 'money', '.', '[EOS]', '.', '.', '.', '.', '.', '.', '.', '.', '.', '.', '.', '.']\n",
            "\n",
            "\n",
            "Oración en Español:  ['tom', 'se', 'electrocutó', '.', '[PAD]', '[PAD]', '[PAD]', '[PAD]', '[PAD]', '[PAD]', '[PAD]', '[PAD]', '[PAD]', '[PAD]', '[PAD]', '[PAD]']\n",
            "Oración Real en Ingles:  ['[SOS]', 'tom', 'was', 'electrocuted', '.', '[EOS]', '[PAD]', '[PAD]', '[PAD]', '[PAD]', '[PAD]', '[PAD]', '[PAD]', '[PAD]', '[PAD]', '[PAD]', '[PAD]', '[PAD]']\n",
            "Oración Predicha en Ingles:  ['tom', 'was', 'aiming', '.', '[EOS]', '.', '.', '.', '.', '.', '.', '.', '.', '.', '.', '.', '.', '.']\n",
            "\n",
            "\n",
            "Oración en Español:  ['hubo', 'un', 'incendio', 'cerca', '.', '[PAD]', '[PAD]', '[PAD]', '[PAD]', '[PAD]', '[PAD]', '[PAD]', '[PAD]', '[PAD]', '[PAD]', '[PAD]', '[PAD]']\n",
            "Oración Real en Ingles:  ['[SOS]', 'a', 'fire', 'broke', 'out', 'nearby', '.', '[EOS]', '[PAD]', '[PAD]', '[PAD]', '[PAD]', '[PAD]', '[PAD]', '[PAD]']\n",
            "Oración Predicha en Ingles:  ['there', 'fire', 'was', '.', '.', '.', '[EOS]', '.', '.', '.', '.', 'near', 'near', 'near', '.']\n",
            "\n",
            "\n",
            "Oración en Español:  ['la', 'anciana', 'se', 'cayó', 'y', 'no', 'pudo', 'levantarse', '.', '[PAD]', '[PAD]', '[PAD]', '[PAD]', '[PAD]', '[PAD]', '[PAD]', '[PAD]']\n",
            "Oración Real en Ingles:  ['[SOS]', 'the', 'old', 'woman', 'fell', 'and', 'could', 'not', 'get', 'up', '.', '[EOS]', '[PAD]', '[PAD]', '[PAD]']\n",
            "Oración Predicha en Ingles:  ['the', 'old', 'woman', 'fell', 'and', 'could', 'not', 'get', 'up', '.', '[EOS]', '.', '.', '.', '.']\n",
            "\n",
            "\n",
            "Oración en Español:  ['pensé', 'que', 'tom', 'estaba', 'de', 'vacaciones', '.', '[PAD]', '[PAD]', '[PAD]', '[PAD]', '[PAD]', '[PAD]', '[PAD]', '[PAD]', '[PAD]', '[PAD]']\n",
            "Oración Real en Ingles:  ['[SOS]', 'i', 'thought', 'tom', 'was', 'on', 'vacation', '.', '[EOS]', '[PAD]', '[PAD]', '[PAD]', '[PAD]', '[PAD]', '[PAD]']\n",
            "Oración Predicha en Ingles:  ['i', 'thought', 'tom', 'was', 'on', 'holiday', '.', '[EOS]', '.', '.', '.', '.', '.', '.', '.']\n",
            "\n",
            "\n",
            "Oración en Español:  ['¿', 'por', 'qué', 'sigues', 'dándole', 'dinero', '?', '[PAD]', '[PAD]', '[PAD]', '[PAD]', '[PAD]', '[PAD]', '[PAD]', '[PAD]', '[PAD]', '[PAD]', '[PAD]', '[PAD]', '[PAD]', '[PAD]']\n",
            "Oración Real en Ingles:  ['[SOS]', 'why', 'do', 'you', 'keep', 'giving', 'him', 'money', '?', '[EOS]', '[PAD]', '[PAD]', '[PAD]', '[PAD]', '[PAD]', '[PAD]', '[PAD]', '[PAD]', '[PAD]', '[PAD]', '[PAD]']\n",
            "Oración Predicha en Ingles:  ['why', 'do', 'you', 'still', 'your', 'money', 'any', '?', '[EOS]', '?', '?', '?', '?', '?', '?', '?', '?', '?', '?', '?', '?']\n",
            "\n",
            "\n",
            "Oración en Español:  ['tom', 'nos', 'siguió', '.', '[PAD]', '[PAD]', '[PAD]', '[PAD]', '[PAD]', '[PAD]', '[PAD]', '[PAD]', '[PAD]', '[PAD]', '[PAD]', '[PAD]', '[PAD]', '[PAD]', '[PAD]', '[PAD]', '[PAD]']\n",
            "Oración Real en Ingles:  ['[SOS]', 'tom', 'followed', 'us', '.', '[EOS]', '[PAD]', '[PAD]', '[PAD]', '[PAD]', '[PAD]', '[PAD]', '[PAD]', '[PAD]', '[PAD]', '[PAD]', '[PAD]', '[PAD]', '[PAD]', '[PAD]', '[PAD]']\n",
            "Oración Predicha en Ingles:  ['tom', 'followed', 'us', '.', '[EOS]', '.', '.', '.', '.', '.', '.', '.', '.', '.', '.', '.', '.', '.', '.', '.', '.']\n",
            "\n",
            "\n",
            "Oración en Español:  ['yo', 'averiguaré', 'finalmente', '.', '[PAD]', '[PAD]', '[PAD]', '[PAD]', '[PAD]', '[PAD]', '[PAD]', '[PAD]', '[PAD]', '[PAD]', '[PAD]', '[PAD]', '[PAD]', '[PAD]', '[PAD]', '[PAD]', '[PAD]']\n",
            "Oración Real en Ingles:  ['[SOS]', 'i', \"'ll\", 'find', 'out', 'eventually', '.', '[EOS]', '[PAD]', '[PAD]', '[PAD]', '[PAD]', '[PAD]', '[PAD]', '[PAD]', '[PAD]', '[PAD]', '[PAD]', '[PAD]', '[PAD]', '[PAD]']\n",
            "Oración Predicha en Ingles:  ['i', \"'ll\", 'find', 'out', '.', '.', '[EOS]', '.', '.', '.', '.', '.', '[EOS]', '[EOS]', '[EOS]', '.', '.', '.', '.', '.', '.']\n",
            "\n",
            "\n",
            "Oración en Español:  ['a', 'mi', 'mujer', 'le', 'gusta', 'mucho', 'la', 'tarta', 'de', 'manzana', '.', '[PAD]', '[PAD]', '[PAD]', '[PAD]', '[PAD]', '[PAD]', '[PAD]', '[PAD]', '[PAD]', '[PAD]', '[PAD]', '[PAD]', '[PAD]', '[PAD]', '[PAD]', '[PAD]', '[PAD]', '[PAD]', '[PAD]', '[PAD]', '[PAD]', '[PAD]', '[PAD]', '[PAD]', '[PAD]', '[PAD]', '[PAD]', '[PAD]', '[PAD]', '[PAD]', '[PAD]', '[PAD]', '[PAD]', '[PAD]', '[PAD]', '[PAD]']\n",
            "Oración Real en Ingles:  ['[SOS]', 'my', 'wife', 'loves', 'apple', 'pie', '.', '[EOS]', '[PAD]', '[PAD]', '[PAD]', '[PAD]', '[PAD]', '[PAD]', '[PAD]', '[PAD]', '[PAD]', '[PAD]', '[PAD]', '[PAD]', '[PAD]', '[PAD]', '[PAD]', '[PAD]', '[PAD]', '[PAD]', '[PAD]', '[PAD]', '[PAD]', '[PAD]', '[PAD]', '[PAD]', '[PAD]', '[PAD]', '[PAD]', '[PAD]', '[PAD]', '[PAD]', '[PAD]', '[PAD]', '[PAD]', '[PAD]', '[PAD]', '[PAD]', '[PAD]', '[PAD]', '[PAD]', '[PAD]']\n",
            "Oración Predicha en Ingles:  ['my', 'wife', 'is', 'apple', 'pie', '.', '[EOS]', 'apple', '.', '.', '.', '.', '.', '.', '.', '.', '.', '.', '.', '.', '.', '.', '.', '.', '.', '.', '.', '.', '.', '.', '.', '.', '.', '.', '.', '.', '.', '.', '.', '.', '.', '.', '.', '.', '.', '.', '.', '.']\n",
            "\n",
            "\n",
            "Oración en Español:  ['él', 'nunca', 'sale', 'después', 'del', 'anochecer', '.', '[PAD]', '[PAD]', '[PAD]', '[PAD]', '[PAD]', '[PAD]', '[PAD]', '[PAD]', '[PAD]', '[PAD]', '[PAD]', '[PAD]', '[PAD]', '[PAD]', '[PAD]', '[PAD]', '[PAD]', '[PAD]', '[PAD]', '[PAD]', '[PAD]', '[PAD]', '[PAD]', '[PAD]', '[PAD]', '[PAD]', '[PAD]', '[PAD]', '[PAD]', '[PAD]', '[PAD]', '[PAD]', '[PAD]', '[PAD]', '[PAD]', '[PAD]', '[PAD]', '[PAD]', '[PAD]', '[PAD]']\n",
            "Oración Real en Ingles:  ['[SOS]', 'he', 'never', 'goes', 'out', 'after', 'dark', '.', '[EOS]', '[PAD]', '[PAD]', '[PAD]', '[PAD]', '[PAD]', '[PAD]', '[PAD]', '[PAD]', '[PAD]', '[PAD]', '[PAD]', '[PAD]', '[PAD]', '[PAD]', '[PAD]', '[PAD]', '[PAD]', '[PAD]', '[PAD]', '[PAD]', '[PAD]', '[PAD]', '[PAD]', '[PAD]', '[PAD]', '[PAD]', '[PAD]', '[PAD]', '[PAD]', '[PAD]', '[PAD]', '[PAD]', '[PAD]', '[PAD]', '[PAD]', '[PAD]', '[PAD]', '[PAD]', '[PAD]']\n",
            "Oración Predicha en Ingles:  ['he', 'will', 'leaves', 'out', 'after', 'dark', '.', '[EOS]', '.', '.', '.', '.', '.', '.', '.', '.', '.', '.', '.', '.', '.', '.', '.', '.', '.', '.', '.', '.', '.', '.', '.', '.', '.', '.', '.', '.', '.', '.', '.', '.', '.', '.', '.', '.', '.', '.', '.', '.']\n",
            "\n",
            "\n",
            "Oración en Español:  ['los', 'leones', 'rugían', 'en', 'sus', 'jaulas', '.', '[PAD]', '[PAD]', '[PAD]', '[PAD]', '[PAD]', '[PAD]', '[PAD]', '[PAD]', '[PAD]', '[PAD]', '[PAD]', '[PAD]', '[PAD]', '[PAD]', '[PAD]', '[PAD]', '[PAD]', '[PAD]', '[PAD]', '[PAD]', '[PAD]', '[PAD]', '[PAD]', '[PAD]', '[PAD]', '[PAD]', '[PAD]', '[PAD]', '[PAD]', '[PAD]', '[PAD]', '[PAD]', '[PAD]', '[PAD]', '[PAD]', '[PAD]', '[PAD]', '[PAD]', '[PAD]', '[PAD]']\n",
            "Oración Real en Ingles:  ['[SOS]', 'the', 'lions', 'roared', 'in', 'their', 'cages', '.', '[EOS]', '[PAD]', '[PAD]', '[PAD]', '[PAD]', '[PAD]', '[PAD]', '[PAD]', '[PAD]', '[PAD]', '[PAD]', '[PAD]', '[PAD]', '[PAD]', '[PAD]', '[PAD]', '[PAD]', '[PAD]', '[PAD]', '[PAD]', '[PAD]', '[PAD]', '[PAD]', '[PAD]', '[PAD]', '[PAD]', '[PAD]', '[PAD]', '[PAD]', '[PAD]', '[PAD]', '[PAD]', '[PAD]', '[PAD]', '[PAD]', '[PAD]', '[PAD]', '[PAD]', '[PAD]', '[PAD]']\n",
            "Oración Predicha en Ingles:  ['the', 'lions', 'in', 'in', 'his', 'cages', '.', '[EOS]', '.', '.', '.', '.', '.', '.', '.', '.', '.', '.', '.', '.', '.', '.', '.', '.', '.', '.', '.', '.', '.', '.', '.', '.', '.', '.', '.', '.', '.', '.', '.', '.', '.', '.', '.', '.', '.', '.', '.', '.']\n",
            "\n",
            "\n",
            "Oración en Español:  ['tom', 'llenó', 'la', 'carretilla', 'con', 'arena', '.', '[PAD]', '[PAD]', '[PAD]', '[PAD]', '[PAD]', '[PAD]']\n",
            "Oración Real en Ingles:  ['[SOS]', 'tom', 'filled', 'the', 'wheelbarrow', 'with', 'sand', '.', '[EOS]', '[PAD]', '[PAD]', '[PAD]', '[PAD]', '[PAD]', '[PAD]', '[PAD]', '[PAD]']\n",
            "Oración Predicha en Ingles:  ['tom', 'filled', 'the', 'sand', '.', 'sand', '.', '[EOS]', '.', '.', '.', '.', '.', '.', '.', '.', '.']\n",
            "\n",
            "\n",
            "Oración en Español:  ['¿', 'estás', 'diciendo', 'que', 'soy', 'una', 'mentirosa', '?', '[PAD]', '[PAD]', '[PAD]', '[PAD]', '[PAD]']\n",
            "Oración Real en Ingles:  ['[SOS]', 'are', 'you', 'saying', 'that', 'i', \"'m\", 'a', 'liar', '?', '[EOS]', '[PAD]', '[PAD]', '[PAD]', '[PAD]', '[PAD]', '[PAD]']\n",
            "Oración Predicha en Ingles:  ['are', 'you', 'saying', 'that', 'i', \"'m\", 'a', 'liar', '?', '[EOS]', '?', '?', '?', '?', '?', '?', '?']\n",
            "\n",
            "\n",
            "Oración en Español:  ['el', 'juez', 'lo', 'sentenció', 'a', 'un', 'año', 'de', 'prisión', '.', '[PAD]', '[PAD]', '[PAD]']\n",
            "Oración Real en Ingles:  ['[SOS]', 'the', 'judge', 'sentenced', 'him', 'to', 'a', 'year', 'in', 'prison', '.', '[EOS]', '[PAD]', '[PAD]', '[PAD]', '[PAD]', '[PAD]']\n",
            "Oración Predicha en Ingles:  ['the', 'judge', 'fined', 'him', 'to', 'a', 'prison', 'in', 'prison', '.', '[EOS]', '.', '.', '.', '.', '.', '.']\n",
            "\n",
            "\n",
            "Oración en Español:  ['su', 'respuesta', 'es', 'incorrecta', '.', '[PAD]', '[PAD]', '[PAD]', '[PAD]', '[PAD]', '[PAD]', '[PAD]', '[PAD]', '[PAD]', '[PAD]', '[PAD]', '[PAD]', '[PAD]', '[PAD]', '[PAD]', '[PAD]', '[PAD]', '[PAD]', '[PAD]']\n",
            "Oración Real en Ingles:  ['[SOS]', 'your', 'answer', 'is', 'incorrect', '.', '[EOS]', '[PAD]', '[PAD]', '[PAD]', '[PAD]', '[PAD]', '[PAD]', '[PAD]', '[PAD]', '[PAD]', '[PAD]', '[PAD]', '[PAD]', '[PAD]', '[PAD]', '[PAD]', '[PAD]', '[PAD]', '[PAD]', '[PAD]', '[PAD]']\n",
            "Oración Predicha en Ingles:  ['his', 'answer', 'is', 'incorrect', '.', '[EOS]', '.', '.', '.', '.', '.', '.', '.', '.', '.', '.', '.', '.', '.', '.', '.', '.', '.', '.', '.', '.', '.']\n",
            "\n",
            "\n",
            "Oración en Español:  ['no', 'pudo', 'creer', 'que', 'no', 'estés', 'tan', 'emocionado', 'como', 'yo', '.', '[PAD]', '[PAD]', '[PAD]', '[PAD]', '[PAD]', '[PAD]', '[PAD]', '[PAD]', '[PAD]', '[PAD]', '[PAD]', '[PAD]', '[PAD]']\n",
            "Oración Real en Ingles:  ['[SOS]', 'i', 'ca', \"n't\", 'believe', 'you', \"'re\", 'not', 'as', 'excited', 'as', 'i', 'am', '.', '[EOS]', '[PAD]', '[PAD]', '[PAD]', '[PAD]', '[PAD]', '[PAD]', '[PAD]', '[PAD]', '[PAD]', '[PAD]', '[PAD]', '[PAD]']\n",
            "Oración Predicha en Ingles:  ['he', 'could', \"n't\", 'believe', 'that', 'are', 'so', 'as', 'excited', '.', 'i', 'am', '.', '[EOS]', '.', '.', '.', '.', '.', '.', '.', '.', '.', '.', '.', '.', '.']\n",
            "\n",
            "\n",
            "Oración en Español:  ['estás', 'cometiendo', 'un', 'gran', 'error', 'aquí', '.', '[PAD]', '[PAD]', '[PAD]', '[PAD]', '[PAD]', '[PAD]', '[PAD]', '[PAD]', '[PAD]', '[PAD]', '[PAD]', '[PAD]', '[PAD]', '[PAD]', '[PAD]', '[PAD]', '[PAD]']\n",
            "Oración Real en Ingles:  ['[SOS]', 'you', \"'re\", 'making', 'a', 'big', 'mistake', 'here', '.', '[EOS]', '[PAD]', '[PAD]', '[PAD]', '[PAD]', '[PAD]', '[PAD]', '[PAD]', '[PAD]', '[PAD]', '[PAD]', '[PAD]', '[PAD]', '[PAD]', '[PAD]', '[PAD]', '[PAD]', '[PAD]']\n",
            "Oración Predicha en Ingles:  ['you', \"'re\", 'making', 'a', 'big', 'mistake', 'here', '.', '[EOS]', '.', '.', '.', '.', '.', '.', '.', '.', '.', '.', '.', '.', '.', '.', '.', '.', 'here', 'here']\n",
            "\n",
            "\n",
            "Time: 1m 40s\n",
            "Train Loss: 0.857\n",
            "Val   Loss: 1.173\n",
            "Epoch: 04\n",
            "Oración en Español:  ['las', 'malas', 'hierbas', 'aparecieron', 'súbitamente', 'en', 'el', 'jardín', '.', '[PAD]', '[PAD]', '[PAD]', '[PAD]', '[PAD]', '[PAD]', '[PAD]']\n",
            "Oración Real en Ingles:  ['[SOS]', 'weeds', 'sprang', 'up', 'in', 'the', 'garden', '.', '[EOS]', '[PAD]', '[PAD]', '[PAD]', '[PAD]', '[PAD]', '[PAD]', '[PAD]', '[PAD]', '[PAD]']\n",
            "Oración Predicha en Ingles:  ['the', 'sprang', 'up', 'in', 'the', 'garden', 'in', '[EOS]', '.', '.', '.', '.', 'up', 'up', 'up', 'up', 'up', 'up']\n",
            "\n",
            "\n",
            "Oración en Español:  ['muéstrenme', 'el', 'dinero', '.', '[PAD]', '[PAD]', '[PAD]', '[PAD]', '[PAD]', '[PAD]', '[PAD]', '[PAD]', '[PAD]', '[PAD]', '[PAD]', '[PAD]']\n",
            "Oración Real en Ingles:  ['[SOS]', 'show', 'me', 'the', 'money', '.', '[EOS]', '[PAD]', '[PAD]', '[PAD]', '[PAD]', '[PAD]', '[PAD]', '[PAD]', '[PAD]', '[PAD]', '[PAD]', '[PAD]']\n",
            "Oración Predicha en Ingles:  ['let', 'me', 'the', 'money', '.', '[EOS]', '.', '.', '.', '.', '.', '.', '.', '.', '.', '.', '.', '.']\n",
            "\n",
            "\n",
            "Oración en Español:  ['tom', 'se', 'electrocutó', '.', '[PAD]', '[PAD]', '[PAD]', '[PAD]', '[PAD]', '[PAD]', '[PAD]', '[PAD]', '[PAD]', '[PAD]', '[PAD]', '[PAD]']\n",
            "Oración Real en Ingles:  ['[SOS]', 'tom', 'was', 'electrocuted', '.', '[EOS]', '[PAD]', '[PAD]', '[PAD]', '[PAD]', '[PAD]', '[PAD]', '[PAD]', '[PAD]', '[PAD]', '[PAD]', '[PAD]', '[PAD]']\n",
            "Oración Predicha en Ingles:  ['tom', 'gloated', 'bedridden', '.', '[EOS]', '.', '.', '.', '.', '[EOS]', 'contracts', 'weakening', 'weakening', 'weakening', 'weakening', '.', '.', '.']\n",
            "\n",
            "\n",
            "Oración en Español:  ['hubo', 'un', 'incendio', 'cerca', '.', '[PAD]', '[PAD]', '[PAD]', '[PAD]', '[PAD]', '[PAD]', '[PAD]', '[PAD]', '[PAD]', '[PAD]', '[PAD]', '[PAD]']\n",
            "Oración Real en Ingles:  ['[SOS]', 'a', 'fire', 'broke', 'out', 'nearby', '.', '[EOS]', '[PAD]', '[PAD]', '[PAD]', '[PAD]', '[PAD]', '[PAD]', '[PAD]']\n",
            "Oración Predicha en Ingles:  ['there', 'fire', 'near', '.', '.', '.', '[EOS]', '.', '.', '.', '.', 'near', 'near', 'near', '.']\n",
            "\n",
            "\n",
            "Oración en Español:  ['la', 'anciana', 'se', 'cayó', 'y', 'no', 'pudo', 'levantarse', '.', '[PAD]', '[PAD]', '[PAD]', '[PAD]', '[PAD]', '[PAD]', '[PAD]', '[PAD]']\n",
            "Oración Real en Ingles:  ['[SOS]', 'the', 'old', 'woman', 'fell', 'and', 'could', 'not', 'get', 'up', '.', '[EOS]', '[PAD]', '[PAD]', '[PAD]']\n",
            "Oración Predicha en Ingles:  ['the', 'old', 'woman', 'fell', 'off', 'could', \"n't\", 'get', 'up', '.', '[EOS]', '.', '.', '.', '.']\n",
            "\n",
            "\n",
            "Oración en Español:  ['pensé', 'que', 'tom', 'estaba', 'de', 'vacaciones', '.', '[PAD]', '[PAD]', '[PAD]', '[PAD]', '[PAD]', '[PAD]', '[PAD]', '[PAD]', '[PAD]', '[PAD]']\n",
            "Oración Real en Ingles:  ['[SOS]', 'i', 'thought', 'tom', 'was', 'on', 'vacation', '.', '[EOS]', '[PAD]', '[PAD]', '[PAD]', '[PAD]', '[PAD]', '[PAD]']\n",
            "Oración Predicha en Ingles:  ['i', 'thought', 'tom', 'was', 'on', 'vacation', '.', '[EOS]', '.', '.', '.', '.', '.', '.', '.']\n",
            "\n",
            "\n",
            "Oración en Español:  ['¿', 'por', 'qué', 'sigues', 'dándole', 'dinero', '?', '[PAD]', '[PAD]', '[PAD]', '[PAD]', '[PAD]', '[PAD]', '[PAD]', '[PAD]', '[PAD]', '[PAD]', '[PAD]', '[PAD]', '[PAD]', '[PAD]']\n",
            "Oración Real en Ingles:  ['[SOS]', 'why', 'do', 'you', 'keep', 'giving', 'him', 'money', '?', '[EOS]', '[PAD]', '[PAD]', '[PAD]', '[PAD]', '[PAD]', '[PAD]', '[PAD]', '[PAD]', '[PAD]', '[PAD]', '[PAD]']\n",
            "Oración Predicha en Ingles:  ['why', 'do', 'you', 'follow', 'your', 'money', 'any', '?', '[EOS]', '?', '?', '?', '?', '?', '?', '?', '?', '?', 'any', 'any', 'any']\n",
            "\n",
            "\n",
            "Oración en Español:  ['tom', 'nos', 'siguió', '.', '[PAD]', '[PAD]', '[PAD]', '[PAD]', '[PAD]', '[PAD]', '[PAD]', '[PAD]', '[PAD]', '[PAD]', '[PAD]', '[PAD]', '[PAD]', '[PAD]', '[PAD]', '[PAD]', '[PAD]']\n",
            "Oración Real en Ingles:  ['[SOS]', 'tom', 'followed', 'us', '.', '[EOS]', '[PAD]', '[PAD]', '[PAD]', '[PAD]', '[PAD]', '[PAD]', '[PAD]', '[PAD]', '[PAD]', '[PAD]', '[PAD]', '[PAD]', '[PAD]', '[PAD]', '[PAD]']\n",
            "Oración Predicha en Ingles:  ['tom', 'followed', 'us', '.', '[EOS]', '.', '.', '.', '.', '.', '.', '.', '.', '.', '.', '.', '.', '.', '.', '.', '.']\n",
            "\n",
            "\n",
            "Oración en Español:  ['yo', 'averiguaré', 'finalmente', '.', '[PAD]', '[PAD]', '[PAD]', '[PAD]', '[PAD]', '[PAD]', '[PAD]', '[PAD]', '[PAD]', '[PAD]', '[PAD]', '[PAD]', '[PAD]', '[PAD]', '[PAD]', '[PAD]', '[PAD]']\n",
            "Oración Real en Ingles:  ['[SOS]', 'i', \"'ll\", 'find', 'out', 'eventually', '.', '[EOS]', '[PAD]', '[PAD]', '[PAD]', '[PAD]', '[PAD]', '[PAD]', '[PAD]', '[PAD]', '[PAD]', '[PAD]', '[PAD]', '[PAD]', '[PAD]']\n",
            "Oración Predicha en Ingles:  ['i', \"'ll\", 'find', 'it', '.', '.', '[EOS]', '.', '.', '.', '.', '.', '.', '.', '.', '.', '.', '.', '.', '.', '.']\n",
            "\n",
            "\n",
            "Oración en Español:  ['a', 'mi', 'mujer', 'le', 'gusta', 'mucho', 'la', 'tarta', 'de', 'manzana', '.', '[PAD]', '[PAD]', '[PAD]', '[PAD]', '[PAD]', '[PAD]', '[PAD]', '[PAD]', '[PAD]', '[PAD]', '[PAD]', '[PAD]', '[PAD]', '[PAD]', '[PAD]', '[PAD]', '[PAD]', '[PAD]', '[PAD]', '[PAD]', '[PAD]', '[PAD]', '[PAD]', '[PAD]', '[PAD]', '[PAD]', '[PAD]', '[PAD]', '[PAD]', '[PAD]', '[PAD]', '[PAD]', '[PAD]', '[PAD]', '[PAD]', '[PAD]']\n",
            "Oración Real en Ingles:  ['[SOS]', 'my', 'wife', 'loves', 'apple', 'pie', '.', '[EOS]', '[PAD]', '[PAD]', '[PAD]', '[PAD]', '[PAD]', '[PAD]', '[PAD]', '[PAD]', '[PAD]', '[PAD]', '[PAD]', '[PAD]', '[PAD]', '[PAD]', '[PAD]', '[PAD]', '[PAD]', '[PAD]', '[PAD]', '[PAD]', '[PAD]', '[PAD]', '[PAD]', '[PAD]', '[PAD]', '[PAD]', '[PAD]', '[PAD]', '[PAD]', '[PAD]', '[PAD]', '[PAD]', '[PAD]', '[PAD]', '[PAD]', '[PAD]', '[PAD]', '[PAD]', '[PAD]', '[PAD]']\n",
            "Oración Predicha en Ingles:  ['my', 'wife', 'likes', 'apple', 'a', 'a', '[EOS]', 'beer', '.', '.', '.', '.', 'a', 'a', 'a', 'a', '.', '.', 'a', 'a', '.', '.', '.', '.', '.', '.', '.', '.', '.', '.', '.', '.', '.', '.', '.', 'a', 'a', '.', '.', '.', '.', '.', 'a', 'a', '.', '.', '.', '.']\n",
            "\n",
            "\n",
            "Oración en Español:  ['él', 'nunca', 'sale', 'después', 'del', 'anochecer', '.', '[PAD]', '[PAD]', '[PAD]', '[PAD]', '[PAD]', '[PAD]', '[PAD]', '[PAD]', '[PAD]', '[PAD]', '[PAD]', '[PAD]', '[PAD]', '[PAD]', '[PAD]', '[PAD]', '[PAD]', '[PAD]', '[PAD]', '[PAD]', '[PAD]', '[PAD]', '[PAD]', '[PAD]', '[PAD]', '[PAD]', '[PAD]', '[PAD]', '[PAD]', '[PAD]', '[PAD]', '[PAD]', '[PAD]', '[PAD]', '[PAD]', '[PAD]', '[PAD]', '[PAD]', '[PAD]', '[PAD]']\n",
            "Oración Real en Ingles:  ['[SOS]', 'he', 'never', 'goes', 'out', 'after', 'dark', '.', '[EOS]', '[PAD]', '[PAD]', '[PAD]', '[PAD]', '[PAD]', '[PAD]', '[PAD]', '[PAD]', '[PAD]', '[PAD]', '[PAD]', '[PAD]', '[PAD]', '[PAD]', '[PAD]', '[PAD]', '[PAD]', '[PAD]', '[PAD]', '[PAD]', '[PAD]', '[PAD]', '[PAD]', '[PAD]', '[PAD]', '[PAD]', '[PAD]', '[PAD]', '[PAD]', '[PAD]', '[PAD]', '[PAD]', '[PAD]', '[PAD]', '[PAD]', '[PAD]', '[PAD]', '[PAD]', '[PAD]']\n",
            "Oración Predicha en Ingles:  ['he', 'never', 'leaves', 'out', 'after', 'dark', '.', '[EOS]', '.', '.', '.', '.', '.', '.', '.', '.', '.', '.', '.', '.', '.', '.', '.', '.', '.', '.', '.', '.', '.', '.', '.', '.', '.', '.', '.', '.', '.', '.', '.', '.', '.', '.', '.', '.', '.', '.', '.', '.']\n",
            "\n",
            "\n",
            "Oración en Español:  ['los', 'leones', 'rugían', 'en', 'sus', 'jaulas', '.', '[PAD]', '[PAD]', '[PAD]', '[PAD]', '[PAD]', '[PAD]', '[PAD]', '[PAD]', '[PAD]', '[PAD]', '[PAD]', '[PAD]', '[PAD]', '[PAD]', '[PAD]', '[PAD]', '[PAD]', '[PAD]', '[PAD]', '[PAD]', '[PAD]', '[PAD]', '[PAD]', '[PAD]', '[PAD]', '[PAD]', '[PAD]', '[PAD]', '[PAD]', '[PAD]', '[PAD]', '[PAD]', '[PAD]', '[PAD]', '[PAD]', '[PAD]', '[PAD]', '[PAD]', '[PAD]', '[PAD]']\n",
            "Oración Real en Ingles:  ['[SOS]', 'the', 'lions', 'roared', 'in', 'their', 'cages', '.', '[EOS]', '[PAD]', '[PAD]', '[PAD]', '[PAD]', '[PAD]', '[PAD]', '[PAD]', '[PAD]', '[PAD]', '[PAD]', '[PAD]', '[PAD]', '[PAD]', '[PAD]', '[PAD]', '[PAD]', '[PAD]', '[PAD]', '[PAD]', '[PAD]', '[PAD]', '[PAD]', '[PAD]', '[PAD]', '[PAD]', '[PAD]', '[PAD]', '[PAD]', '[PAD]', '[PAD]', '[PAD]', '[PAD]', '[PAD]', '[PAD]', '[PAD]', '[PAD]', '[PAD]', '[PAD]', '[PAD]']\n",
            "Oración Predicha en Ingles:  ['lions', 'lions', 'were', 'in', 'their', 'cages', '.', '[EOS]', '.', '.', '.', '.', '.', '.', '.', '.', '.', '.', '.', '.', '.', '.', '.', '.', '.', '.', '.', '.', '.', '.', '.', '.', '.', '.', '.', '.', '.', '.', '.', '.', '.', '.', '.', '.', '.', '.', '.', '.']\n",
            "\n",
            "\n",
            "Oración en Español:  ['tom', 'llenó', 'la', 'carretilla', 'con', 'arena', '.', '[PAD]', '[PAD]', '[PAD]', '[PAD]', '[PAD]', '[PAD]']\n",
            "Oración Real en Ingles:  ['[SOS]', 'tom', 'filled', 'the', 'wheelbarrow', 'with', 'sand', '.', '[EOS]', '[PAD]', '[PAD]', '[PAD]', '[PAD]', '[PAD]', '[PAD]', '[PAD]', '[PAD]']\n",
            "Oración Predicha en Ingles:  ['tom', 'filled', 'the', 'sand', 'with', 'a', '.', '[EOS]', '.', '.', '.', '.', '.', '.', '.', '.', '.']\n",
            "\n",
            "\n",
            "Oración en Español:  ['¿', 'estás', 'diciendo', 'que', 'soy', 'una', 'mentirosa', '?', '[PAD]', '[PAD]', '[PAD]', '[PAD]', '[PAD]']\n",
            "Oración Real en Ingles:  ['[SOS]', 'are', 'you', 'saying', 'that', 'i', \"'m\", 'a', 'liar', '?', '[EOS]', '[PAD]', '[PAD]', '[PAD]', '[PAD]', '[PAD]', '[PAD]']\n",
            "Oración Predicha en Ingles:  ['are', 'you', 'saying', 'i', 'i', \"'m\", 'a', 'liar', '?', '[EOS]', '?', '?', '?', '?', '?', '?', '?']\n",
            "\n",
            "\n",
            "Oración en Español:  ['el', 'juez', 'lo', 'sentenció', 'a', 'un', 'año', 'de', 'prisión', '.', '[PAD]', '[PAD]', '[PAD]']\n",
            "Oración Real en Ingles:  ['[SOS]', 'the', 'judge', 'sentenced', 'him', 'to', 'a', 'year', 'in', 'prison', '.', '[EOS]', '[PAD]', '[PAD]', '[PAD]', '[PAD]', '[PAD]']\n",
            "Oración Predicha en Ingles:  ['the', 'judge', 'sentenced', 'him', 'to', 'a', 'year', 'of', 'prison', '.', '[EOS]', '.', '.', '.', '.', '.', '.']\n",
            "\n",
            "\n",
            "Oración en Español:  ['su', 'respuesta', 'es', 'incorrecta', '.', '[PAD]', '[PAD]', '[PAD]', '[PAD]', '[PAD]', '[PAD]', '[PAD]', '[PAD]', '[PAD]', '[PAD]', '[PAD]', '[PAD]', '[PAD]', '[PAD]', '[PAD]', '[PAD]', '[PAD]', '[PAD]', '[PAD]']\n",
            "Oración Real en Ingles:  ['[SOS]', 'your', 'answer', 'is', 'incorrect', '.', '[EOS]', '[PAD]', '[PAD]', '[PAD]', '[PAD]', '[PAD]', '[PAD]', '[PAD]', '[PAD]', '[PAD]', '[PAD]', '[PAD]', '[PAD]', '[PAD]', '[PAD]', '[PAD]', '[PAD]', '[PAD]', '[PAD]', '[PAD]', '[PAD]']\n",
            "Oración Predicha en Ingles:  ['his', 'answer', 'is', 'incorrect', '.', '[EOS]', '.', '.', '.', '.', '.', '.', '.', '.', '.', '.', '.', '.', '.', '.', '.', '.', '.', '.', '.', '.', '.']\n",
            "\n",
            "\n",
            "Oración en Español:  ['no', 'pudo', 'creer', 'que', 'no', 'estés', 'tan', 'emocionado', 'como', 'yo', '.', '[PAD]', '[PAD]', '[PAD]', '[PAD]', '[PAD]', '[PAD]', '[PAD]', '[PAD]', '[PAD]', '[PAD]', '[PAD]', '[PAD]', '[PAD]']\n",
            "Oración Real en Ingles:  ['[SOS]', 'i', 'ca', \"n't\", 'believe', 'you', \"'re\", 'not', 'as', 'excited', 'as', 'i', 'am', '.', '[EOS]', '[PAD]', '[PAD]', '[PAD]', '[PAD]', '[PAD]', '[PAD]', '[PAD]', '[PAD]', '[PAD]', '[PAD]', '[PAD]', '[PAD]']\n",
            "Oración Predicha en Ingles:  ['she', 'could', \"n't\", 'believe', 'you', 'are', 'not', 'as', 'excited', '.', 'i', 'am', '.', '[EOS]', '.', '.', '.', '.', '.', '.', '.', '.', '.', '.', '.', '.', '.']\n",
            "\n",
            "\n",
            "Oración en Español:  ['estás', 'cometiendo', 'un', 'gran', 'error', 'aquí', '.', '[PAD]', '[PAD]', '[PAD]', '[PAD]', '[PAD]', '[PAD]', '[PAD]', '[PAD]', '[PAD]', '[PAD]', '[PAD]', '[PAD]', '[PAD]', '[PAD]', '[PAD]', '[PAD]', '[PAD]']\n",
            "Oración Real en Ingles:  ['[SOS]', 'you', \"'re\", 'making', 'a', 'big', 'mistake', 'here', '.', '[EOS]', '[PAD]', '[PAD]', '[PAD]', '[PAD]', '[PAD]', '[PAD]', '[PAD]', '[PAD]', '[PAD]', '[PAD]', '[PAD]', '[PAD]', '[PAD]', '[PAD]', '[PAD]', '[PAD]', '[PAD]']\n",
            "Oración Predicha en Ingles:  ['you', \"'re\", 'making', 'a', 'big', 'mistake', 'here', '.', '[EOS]', '.', '.', '.', '.', '.', '.', '.', '.', '.', '.', '.', '.', '.', 'here', 'here', 'here', 'here', 'here']\n",
            "\n",
            "\n",
            "Time: 1m 39s\n",
            "Train Loss: 0.674\n",
            "Val   Loss: 1.179\n",
            "Epoch: 05\n",
            "Oración en Español:  ['las', 'malas', 'hierbas', 'aparecieron', 'súbitamente', 'en', 'el', 'jardín', '.', '[PAD]', '[PAD]', '[PAD]', '[PAD]', '[PAD]', '[PAD]', '[PAD]']\n",
            "Oración Real en Ingles:  ['[SOS]', 'weeds', 'sprang', 'up', 'in', 'the', 'garden', '.', '[EOS]', '[PAD]', '[PAD]', '[PAD]', '[PAD]', '[PAD]', '[PAD]', '[PAD]', '[PAD]', '[PAD]']\n",
            "Oración Predicha en Ingles:  ['the', 'in', 'up', 'in', 'the', 'garden', 'in', '[EOS]', '.', '.', '.', '.', '.', '.', 'in', 'in', 'in', 'in']\n",
            "\n",
            "\n",
            "Oración en Español:  ['muéstrenme', 'el', 'dinero', '.', '[PAD]', '[PAD]', '[PAD]', '[PAD]', '[PAD]', '[PAD]', '[PAD]', '[PAD]', '[PAD]', '[PAD]', '[PAD]', '[PAD]']\n",
            "Oración Real en Ingles:  ['[SOS]', 'show', 'me', 'the', 'money', '.', '[EOS]', '[PAD]', '[PAD]', '[PAD]', '[PAD]', '[PAD]', '[PAD]', '[PAD]', '[PAD]', '[PAD]', '[PAD]', '[PAD]']\n",
            "Oración Predicha en Ingles:  ['drop', 'us', 'the', 'money', '.', '[EOS]', '.', '.', '.', '.', '.', '.', '.', '.', '.', '.', '.', '.']\n",
            "\n",
            "\n",
            "Oración en Español:  ['tom', 'se', 'electrocutó', '.', '[PAD]', '[PAD]', '[PAD]', '[PAD]', '[PAD]', '[PAD]', '[PAD]', '[PAD]', '[PAD]', '[PAD]', '[PAD]', '[PAD]']\n",
            "Oración Real en Ingles:  ['[SOS]', 'tom', 'was', 'electrocuted', '.', '[EOS]', '[PAD]', '[PAD]', '[PAD]', '[PAD]', '[PAD]', '[PAD]', '[PAD]', '[PAD]', '[PAD]', '[PAD]', '[PAD]', '[PAD]']\n",
            "Oración Predicha en Ingles:  ['tom', 'controls', 'vacuuming', '.', '[EOS]', '.', '.', '.', '.', '.', 'scolding', 'scolding', '.', '.', '.', '.', '.', '.']\n",
            "\n",
            "\n",
            "Oración en Español:  ['hubo', 'un', 'incendio', 'cerca', '.', '[PAD]', '[PAD]', '[PAD]', '[PAD]', '[PAD]', '[PAD]', '[PAD]', '[PAD]', '[PAD]', '[PAD]', '[PAD]', '[PAD]']\n",
            "Oración Real en Ingles:  ['[SOS]', 'a', 'fire', 'broke', 'out', 'nearby', '.', '[EOS]', '[PAD]', '[PAD]', '[PAD]', '[PAD]', '[PAD]', '[PAD]', '[PAD]']\n",
            "Oración Predicha en Ingles:  ['there', 'fire', 'was', '.', '.', '.', '[EOS]', '.', '.', '.', '.', 'fire', 'fire', 'fire', '.']\n",
            "\n",
            "\n",
            "Oración en Español:  ['la', 'anciana', 'se', 'cayó', 'y', 'no', 'pudo', 'levantarse', '.', '[PAD]', '[PAD]', '[PAD]', '[PAD]', '[PAD]', '[PAD]', '[PAD]', '[PAD]']\n",
            "Oración Real en Ingles:  ['[SOS]', 'the', 'old', 'woman', 'fell', 'and', 'could', 'not', 'get', 'up', '.', '[EOS]', '[PAD]', '[PAD]', '[PAD]']\n",
            "Oración Predicha en Ingles:  ['the', 'old', 'lady', 'fell', 'and', 'could', \"n't\", 'read', 'up', '.', '[EOS]', '.', '.', '.', '.']\n",
            "\n",
            "\n",
            "Oración en Español:  ['pensé', 'que', 'tom', 'estaba', 'de', 'vacaciones', '.', '[PAD]', '[PAD]', '[PAD]', '[PAD]', '[PAD]', '[PAD]', '[PAD]', '[PAD]', '[PAD]', '[PAD]']\n",
            "Oración Real en Ingles:  ['[SOS]', 'i', 'thought', 'tom', 'was', 'on', 'vacation', '.', '[EOS]', '[PAD]', '[PAD]', '[PAD]', '[PAD]', '[PAD]', '[PAD]']\n",
            "Oración Predicha en Ingles:  ['i', 'thought', 'tom', 'was', 'on', 'vacation', '.', '[EOS]', '.', '.', '.', '.', '.', '.', '.']\n",
            "\n",
            "\n",
            "Oración en Español:  ['¿', 'por', 'qué', 'sigues', 'dándole', 'dinero', '?', '[PAD]', '[PAD]', '[PAD]', '[PAD]', '[PAD]', '[PAD]', '[PAD]', '[PAD]', '[PAD]', '[PAD]', '[PAD]', '[PAD]', '[PAD]', '[PAD]']\n",
            "Oración Real en Ingles:  ['[SOS]', 'why', 'do', 'you', 'keep', 'giving', 'him', 'money', '?', '[EOS]', '[PAD]', '[PAD]', '[PAD]', '[PAD]', '[PAD]', '[PAD]', '[PAD]', '[PAD]', '[PAD]', '[PAD]', '[PAD]']\n",
            "Oración Predicha en Ingles:  ['why', 'do', 'you', 'still', 'money', 'money', 'any', '?', '[EOS]', '?', '?', '?', '?', '?', '?', '?', '?', '?', '?', 'money', '?']\n",
            "\n",
            "\n",
            "Oración en Español:  ['tom', 'nos', 'siguió', '.', '[PAD]', '[PAD]', '[PAD]', '[PAD]', '[PAD]', '[PAD]', '[PAD]', '[PAD]', '[PAD]', '[PAD]', '[PAD]', '[PAD]', '[PAD]', '[PAD]', '[PAD]', '[PAD]', '[PAD]']\n",
            "Oración Real en Ingles:  ['[SOS]', 'tom', 'followed', 'us', '.', '[EOS]', '[PAD]', '[PAD]', '[PAD]', '[PAD]', '[PAD]', '[PAD]', '[PAD]', '[PAD]', '[PAD]', '[PAD]', '[PAD]', '[PAD]', '[PAD]', '[PAD]', '[PAD]']\n",
            "Oración Predicha en Ingles:  ['tom', 'followed', 'us', '.', '[EOS]', '.', '.', '.', '.', '.', '.', '.', '.', '.', '.', '.', '.', '.', '.', '.', '.']\n",
            "\n",
            "\n",
            "Oración en Español:  ['yo', 'averiguaré', 'finalmente', '.', '[PAD]', '[PAD]', '[PAD]', '[PAD]', '[PAD]', '[PAD]', '[PAD]', '[PAD]', '[PAD]', '[PAD]', '[PAD]', '[PAD]', '[PAD]', '[PAD]', '[PAD]', '[PAD]', '[PAD]']\n",
            "Oración Real en Ingles:  ['[SOS]', 'i', \"'ll\", 'find', 'out', 'eventually', '.', '[EOS]', '[PAD]', '[PAD]', '[PAD]', '[PAD]', '[PAD]', '[PAD]', '[PAD]', '[PAD]', '[PAD]', '[PAD]', '[PAD]', '[PAD]', '[PAD]']\n",
            "Oración Predicha en Ingles:  ['i', \"'ll\", 'eventually', 'out', 'eventually', '.', '[EOS]', '.', '.', '.', '.', '.', '.', '.', '.', '.', '.', '.', '.', '.', '.']\n",
            "\n",
            "\n",
            "Oración en Español:  ['a', 'mi', 'mujer', 'le', 'gusta', 'mucho', 'la', 'tarta', 'de', 'manzana', '.', '[PAD]', '[PAD]', '[PAD]', '[PAD]', '[PAD]', '[PAD]', '[PAD]', '[PAD]', '[PAD]', '[PAD]', '[PAD]', '[PAD]', '[PAD]', '[PAD]', '[PAD]', '[PAD]', '[PAD]', '[PAD]', '[PAD]', '[PAD]', '[PAD]', '[PAD]', '[PAD]', '[PAD]', '[PAD]', '[PAD]', '[PAD]', '[PAD]', '[PAD]', '[PAD]', '[PAD]', '[PAD]', '[PAD]', '[PAD]', '[PAD]', '[PAD]']\n",
            "Oración Real en Ingles:  ['[SOS]', 'my', 'wife', 'loves', 'apple', 'pie', '.', '[EOS]', '[PAD]', '[PAD]', '[PAD]', '[PAD]', '[PAD]', '[PAD]', '[PAD]', '[PAD]', '[PAD]', '[PAD]', '[PAD]', '[PAD]', '[PAD]', '[PAD]', '[PAD]', '[PAD]', '[PAD]', '[PAD]', '[PAD]', '[PAD]', '[PAD]', '[PAD]', '[PAD]', '[PAD]', '[PAD]', '[PAD]', '[PAD]', '[PAD]', '[PAD]', '[PAD]', '[PAD]', '[PAD]', '[PAD]', '[PAD]', '[PAD]', '[PAD]', '[PAD]', '[PAD]', '[PAD]', '[PAD]']\n",
            "Oración Predicha en Ingles:  ['my', 'wife', 'likes', 'apple', 'pie', 'a', '[EOS]', 'of', 'from', 'from', '.', '.', '.', '.', '.', '.', '.', '.', '.', '.', '.', '.', '.', '.', '.', '.', '.', '.', '.', 'a', '.', '.', '.', '.', 'a', 'a', 'a', '.', '.', '.', 'a', 'a', 'a', 'a', '.', '.', '.', '.']\n",
            "\n",
            "\n",
            "Oración en Español:  ['él', 'nunca', 'sale', 'después', 'del', 'anochecer', '.', '[PAD]', '[PAD]', '[PAD]', '[PAD]', '[PAD]', '[PAD]', '[PAD]', '[PAD]', '[PAD]', '[PAD]', '[PAD]', '[PAD]', '[PAD]', '[PAD]', '[PAD]', '[PAD]', '[PAD]', '[PAD]', '[PAD]', '[PAD]', '[PAD]', '[PAD]', '[PAD]', '[PAD]', '[PAD]', '[PAD]', '[PAD]', '[PAD]', '[PAD]', '[PAD]', '[PAD]', '[PAD]', '[PAD]', '[PAD]', '[PAD]', '[PAD]', '[PAD]', '[PAD]', '[PAD]', '[PAD]']\n",
            "Oración Real en Ingles:  ['[SOS]', 'he', 'never', 'goes', 'out', 'after', 'dark', '.', '[EOS]', '[PAD]', '[PAD]', '[PAD]', '[PAD]', '[PAD]', '[PAD]', '[PAD]', '[PAD]', '[PAD]', '[PAD]', '[PAD]', '[PAD]', '[PAD]', '[PAD]', '[PAD]', '[PAD]', '[PAD]', '[PAD]', '[PAD]', '[PAD]', '[PAD]', '[PAD]', '[PAD]', '[PAD]', '[PAD]', '[PAD]', '[PAD]', '[PAD]', '[PAD]', '[PAD]', '[PAD]', '[PAD]', '[PAD]', '[PAD]', '[PAD]', '[PAD]', '[PAD]', '[PAD]', '[PAD]']\n",
            "Oración Predicha en Ingles:  ['he', 'never', 'goes', 'out', 'after', 'dark', '.', '[EOS]', '.', '.', '.', '.', '.', '.', '.', '.', '.', '.', '.', '.', '.', '.', '.', '.', '.', '.', '.', '.', '.', '.', '.', '.', '.', '.', '.', '.', '.', '.', '.', '.', '.', '.', '.', '.', '.', '.', '.', '.']\n",
            "\n",
            "\n",
            "Oración en Español:  ['los', 'leones', 'rugían', 'en', 'sus', 'jaulas', '.', '[PAD]', '[PAD]', '[PAD]', '[PAD]', '[PAD]', '[PAD]', '[PAD]', '[PAD]', '[PAD]', '[PAD]', '[PAD]', '[PAD]', '[PAD]', '[PAD]', '[PAD]', '[PAD]', '[PAD]', '[PAD]', '[PAD]', '[PAD]', '[PAD]', '[PAD]', '[PAD]', '[PAD]', '[PAD]', '[PAD]', '[PAD]', '[PAD]', '[PAD]', '[PAD]', '[PAD]', '[PAD]', '[PAD]', '[PAD]', '[PAD]', '[PAD]', '[PAD]', '[PAD]', '[PAD]', '[PAD]']\n",
            "Oración Real en Ingles:  ['[SOS]', 'the', 'lions', 'roared', 'in', 'their', 'cages', '.', '[EOS]', '[PAD]', '[PAD]', '[PAD]', '[PAD]', '[PAD]', '[PAD]', '[PAD]', '[PAD]', '[PAD]', '[PAD]', '[PAD]', '[PAD]', '[PAD]', '[PAD]', '[PAD]', '[PAD]', '[PAD]', '[PAD]', '[PAD]', '[PAD]', '[PAD]', '[PAD]', '[PAD]', '[PAD]', '[PAD]', '[PAD]', '[PAD]', '[PAD]', '[PAD]', '[PAD]', '[PAD]', '[PAD]', '[PAD]', '[PAD]', '[PAD]', '[PAD]', '[PAD]', '[PAD]', '[PAD]']\n",
            "Oración Predicha en Ingles:  ['the', 'lions', 'were', 'in', 'his', 'cages', '.', '[EOS]', '.', '.', '.', '.', '.', '.', '.', '.', '.', '.', '.', '.', '.', '.', '.', '.', '.', '.', '.', '.', '.', '.', '.', '.', '.', '.', '.', '.', '.', '.', '.', '.', '.', '.', '.', '.', '.', '.', '.', '.']\n",
            "\n",
            "\n",
            "Oración en Español:  ['tom', 'llenó', 'la', 'carretilla', 'con', 'arena', '.', '[PAD]', '[PAD]', '[PAD]', '[PAD]', '[PAD]', '[PAD]']\n",
            "Oración Real en Ingles:  ['[SOS]', 'tom', 'filled', 'the', 'wheelbarrow', 'with', 'sand', '.', '[EOS]', '[PAD]', '[PAD]', '[PAD]', '[PAD]', '[PAD]', '[PAD]', '[PAD]', '[PAD]']\n",
            "Oración Predicha en Ingles:  ['tom', 'filled', 'the', 'sand', '.', 'a', '.', '[EOS]', '.', '.', '.', '.', '.', '.', '.', '.', '.']\n",
            "\n",
            "\n",
            "Oración en Español:  ['¿', 'estás', 'diciendo', 'que', 'soy', 'una', 'mentirosa', '?', '[PAD]', '[PAD]', '[PAD]', '[PAD]', '[PAD]']\n",
            "Oración Real en Ingles:  ['[SOS]', 'are', 'you', 'saying', 'that', 'i', \"'m\", 'a', 'liar', '?', '[EOS]', '[PAD]', '[PAD]', '[PAD]', '[PAD]', '[PAD]', '[PAD]']\n",
            "Oración Predicha en Ingles:  ['are', 'you', 'saying', 'that', 'i', 'am', 'a', 'liar', '?', '[EOS]', '?', '?', '?', '?', '?', '?', '?']\n",
            "\n",
            "\n",
            "Oración en Español:  ['el', 'juez', 'lo', 'sentenció', 'a', 'un', 'año', 'de', 'prisión', '.', '[PAD]', '[PAD]', '[PAD]']\n",
            "Oración Real en Ingles:  ['[SOS]', 'the', 'judge', 'sentenced', 'him', 'to', 'a', 'year', 'in', 'prison', '.', '[EOS]', '[PAD]', '[PAD]', '[PAD]', '[PAD]', '[PAD]']\n",
            "Oración Predicha en Ingles:  ['the', 'judge', 'sentenced', 'him', 'to', 'one', 'year', 'of', 'prison', '.', '[EOS]', '.', '.', '.', '.', '.', '.']\n",
            "\n",
            "\n",
            "Oración en Español:  ['su', 'respuesta', 'es', 'incorrecta', '.', '[PAD]', '[PAD]', '[PAD]', '[PAD]', '[PAD]', '[PAD]', '[PAD]', '[PAD]', '[PAD]', '[PAD]', '[PAD]', '[PAD]', '[PAD]', '[PAD]', '[PAD]', '[PAD]', '[PAD]', '[PAD]', '[PAD]']\n",
            "Oración Real en Ingles:  ['[SOS]', 'your', 'answer', 'is', 'incorrect', '.', '[EOS]', '[PAD]', '[PAD]', '[PAD]', '[PAD]', '[PAD]', '[PAD]', '[PAD]', '[PAD]', '[PAD]', '[PAD]', '[PAD]', '[PAD]', '[PAD]', '[PAD]', '[PAD]', '[PAD]', '[PAD]', '[PAD]', '[PAD]', '[PAD]']\n",
            "Oración Predicha en Ingles:  ['his', 'answer', 'is', 'incorrect', '.', '[EOS]', '.', '.', '.', '.', '.', '.', '.', '.', '.', '.', '.', '.', '.', '.', '.', '.', '.', '.', '.', '.', '.']\n",
            "\n",
            "\n",
            "Oración en Español:  ['no', 'pudo', 'creer', 'que', 'no', 'estés', 'tan', 'emocionado', 'como', 'yo', '.', '[PAD]', '[PAD]', '[PAD]', '[PAD]', '[PAD]', '[PAD]', '[PAD]', '[PAD]', '[PAD]', '[PAD]', '[PAD]', '[PAD]', '[PAD]']\n",
            "Oración Real en Ingles:  ['[SOS]', 'i', 'ca', \"n't\", 'believe', 'you', \"'re\", 'not', 'as', 'excited', 'as', 'i', 'am', '.', '[EOS]', '[PAD]', '[PAD]', '[PAD]', '[PAD]', '[PAD]', '[PAD]', '[PAD]', '[PAD]', '[PAD]', '[PAD]', '[PAD]', '[PAD]']\n",
            "Oración Predicha en Ingles:  ['he', 'could', \"n't\", 'believe', 'that', \"'re\", 'not', 'as', 'thrilled', '.', 'i', \"'m\", '.', '[EOS]', '.', '.', '.', '.', '.', '.', '.', '.', '.', '.', '.', '.', '.']\n",
            "\n",
            "\n",
            "Oración en Español:  ['estás', 'cometiendo', 'un', 'gran', 'error', 'aquí', '.', '[PAD]', '[PAD]', '[PAD]', '[PAD]', '[PAD]', '[PAD]', '[PAD]', '[PAD]', '[PAD]', '[PAD]', '[PAD]', '[PAD]', '[PAD]', '[PAD]', '[PAD]', '[PAD]', '[PAD]']\n",
            "Oración Real en Ingles:  ['[SOS]', 'you', \"'re\", 'making', 'a', 'big', 'mistake', 'here', '.', '[EOS]', '[PAD]', '[PAD]', '[PAD]', '[PAD]', '[PAD]', '[PAD]', '[PAD]', '[PAD]', '[PAD]', '[PAD]', '[PAD]', '[PAD]', '[PAD]', '[PAD]', '[PAD]', '[PAD]', '[PAD]']\n",
            "Oración Predicha en Ingles:  ['you', \"'re\", 'making', 'a', 'big', 'mistake', 'here', '.', '[EOS]', '.', '.', '.', '.', '.', '.', '.', '.', '.', '.', '.', '.', '.', '.', '.', '.', '.', '.']\n",
            "\n",
            "\n",
            "Time: 1m 39s\n",
            "Train Loss: 0.564\n",
            "Val   Loss: 1.184\n",
            "Epoch: 06\n",
            "Oración en Español:  ['las', 'malas', 'hierbas', 'aparecieron', 'súbitamente', 'en', 'el', 'jardín', '.', '[PAD]', '[PAD]', '[PAD]', '[PAD]', '[PAD]', '[PAD]', '[PAD]']\n",
            "Oración Real en Ingles:  ['[SOS]', 'weeds', 'sprang', 'up', 'in', 'the', 'garden', '.', '[EOS]', '[PAD]', '[PAD]', '[PAD]', '[PAD]', '[PAD]', '[PAD]', '[PAD]', '[PAD]', '[PAD]']\n",
            "Oración Predicha en Ingles:  ['the', 'in', 'out', 'in', 'the', 'garden', 'in', '[EOS]', 'in', '.', '.', '.', 'in', 'in', 'in', 'in', 'in', 'in']\n",
            "\n",
            "\n",
            "Oración en Español:  ['muéstrenme', 'el', 'dinero', '.', '[PAD]', '[PAD]', '[PAD]', '[PAD]', '[PAD]', '[PAD]', '[PAD]', '[PAD]', '[PAD]', '[PAD]', '[PAD]', '[PAD]']\n",
            "Oración Real en Ingles:  ['[SOS]', 'show', 'me', 'the', 'money', '.', '[EOS]', '[PAD]', '[PAD]', '[PAD]', '[PAD]', '[PAD]', '[PAD]', '[PAD]', '[PAD]', '[PAD]', '[PAD]', '[PAD]']\n",
            "Oración Predicha en Ingles:  ['loosen', 'up', 'the', 'money', '.', '[EOS]', '[EOS]', '.', '.', '[EOS]', '.', '.', '.', '.', '.', '.', '.', '.']\n",
            "\n",
            "\n",
            "Oración en Español:  ['tom', 'se', 'electrocutó', '.', '[PAD]', '[PAD]', '[PAD]', '[PAD]', '[PAD]', '[PAD]', '[PAD]', '[PAD]', '[PAD]', '[PAD]', '[PAD]', '[PAD]']\n",
            "Oración Real en Ingles:  ['[SOS]', 'tom', 'was', 'electrocuted', '.', '[EOS]', '[PAD]', '[PAD]', '[PAD]', '[PAD]', '[PAD]', '[PAD]', '[PAD]', '[PAD]', '[PAD]', '[PAD]', '[PAD]', '[PAD]']\n",
            "Oración Predicha en Ingles:  ['tom', 'relented', 'reluctant', '.', '[EOS]', '.', '.', '.', '.', '.', '.', '.', '.', '.', '.', '.', '.', '.']\n",
            "\n",
            "\n",
            "Oración en Español:  ['hubo', 'un', 'incendio', 'cerca', '.', '[PAD]', '[PAD]', '[PAD]', '[PAD]', '[PAD]', '[PAD]', '[PAD]', '[PAD]', '[PAD]', '[PAD]', '[PAD]', '[PAD]']\n",
            "Oración Real en Ingles:  ['[SOS]', 'a', 'fire', 'broke', 'out', 'nearby', '.', '[EOS]', '[PAD]', '[PAD]', '[PAD]', '[PAD]', '[PAD]', '[PAD]', '[PAD]']\n",
            "Oración Predicha en Ingles:  ['a', 'fire', 'near', 'out', '.', '.', '[EOS]', '.', '.', '.', '.', '.', 'fire', '.', '.']\n",
            "\n",
            "\n",
            "Oración en Español:  ['la', 'anciana', 'se', 'cayó', 'y', 'no', 'pudo', 'levantarse', '.', '[PAD]', '[PAD]', '[PAD]', '[PAD]', '[PAD]', '[PAD]', '[PAD]', '[PAD]']\n",
            "Oración Real en Ingles:  ['[SOS]', 'the', 'old', 'woman', 'fell', 'and', 'could', 'not', 'get', 'up', '.', '[EOS]', '[PAD]', '[PAD]', '[PAD]']\n",
            "Oración Predicha en Ingles:  ['the', 'old', 'woman', 'fell', 'up', 'could', \"n't\", 'stand', 'up', '.', '[EOS]', '.', '.', '.', '.']\n",
            "\n",
            "\n",
            "Oración en Español:  ['pensé', 'que', 'tom', 'estaba', 'de', 'vacaciones', '.', '[PAD]', '[PAD]', '[PAD]', '[PAD]', '[PAD]', '[PAD]', '[PAD]', '[PAD]', '[PAD]', '[PAD]']\n",
            "Oración Real en Ingles:  ['[SOS]', 'i', 'thought', 'tom', 'was', 'on', 'vacation', '.', '[EOS]', '[PAD]', '[PAD]', '[PAD]', '[PAD]', '[PAD]', '[PAD]']\n",
            "Oración Predicha en Ingles:  ['i', 'thought', 'tom', 'was', 'on', 'vacation', '.', '[EOS]', '.', '.', '.', '.', '.', '.', '.']\n",
            "\n",
            "\n",
            "Oración en Español:  ['¿', 'por', 'qué', 'sigues', 'dándole', 'dinero', '?', '[PAD]', '[PAD]', '[PAD]', '[PAD]', '[PAD]', '[PAD]', '[PAD]', '[PAD]', '[PAD]', '[PAD]', '[PAD]', '[PAD]', '[PAD]', '[PAD]']\n",
            "Oración Real en Ingles:  ['[SOS]', 'why', 'do', 'you', 'keep', 'giving', 'him', 'money', '?', '[EOS]', '[PAD]', '[PAD]', '[PAD]', '[PAD]', '[PAD]', '[PAD]', '[PAD]', '[PAD]', '[PAD]', '[PAD]', '[PAD]']\n",
            "Oración Predicha en Ingles:  ['why', 'are', 'you', 'follow', 'your', 'money', 'any', '?', '[EOS]', '?', '?', '?', '?', '?', '?', '?', '?', '?', '?', '?', '?']\n",
            "\n",
            "\n",
            "Oración en Español:  ['tom', 'nos', 'siguió', '.', '[PAD]', '[PAD]', '[PAD]', '[PAD]', '[PAD]', '[PAD]', '[PAD]', '[PAD]', '[PAD]', '[PAD]', '[PAD]', '[PAD]', '[PAD]', '[PAD]', '[PAD]', '[PAD]', '[PAD]']\n",
            "Oración Real en Ingles:  ['[SOS]', 'tom', 'followed', 'us', '.', '[EOS]', '[PAD]', '[PAD]', '[PAD]', '[PAD]', '[PAD]', '[PAD]', '[PAD]', '[PAD]', '[PAD]', '[PAD]', '[PAD]', '[PAD]', '[PAD]', '[PAD]', '[PAD]']\n",
            "Oración Predicha en Ingles:  ['tom', 'followed', 'us', '.', '[EOS]', '.', '.', '.', '.', '.', '.', '.', '.', '.', '.', '.', '.', '.', '.', '.', '.']\n",
            "\n",
            "\n",
            "Oración en Español:  ['yo', 'averiguaré', 'finalmente', '.', '[PAD]', '[PAD]', '[PAD]', '[PAD]', '[PAD]', '[PAD]', '[PAD]', '[PAD]', '[PAD]', '[PAD]', '[PAD]', '[PAD]', '[PAD]', '[PAD]', '[PAD]', '[PAD]', '[PAD]']\n",
            "Oración Real en Ingles:  ['[SOS]', 'i', \"'ll\", 'find', 'out', 'eventually', '.', '[EOS]', '[PAD]', '[PAD]', '[PAD]', '[PAD]', '[PAD]', '[PAD]', '[PAD]', '[PAD]', '[PAD]', '[PAD]', '[PAD]', '[PAD]', '[PAD]']\n",
            "Oración Predicha en Ingles:  ['i', \"'ll\", 'figure', 'out', 'eventually', '.', '[EOS]', '.', '.', '.', '.', 'out', 'out', 'out', 'out', 'out', 'out', '.', '.', '.', '.']\n",
            "\n",
            "\n",
            "Oración en Español:  ['a', 'mi', 'mujer', 'le', 'gusta', 'mucho', 'la', 'tarta', 'de', 'manzana', '.', '[PAD]', '[PAD]', '[PAD]', '[PAD]', '[PAD]', '[PAD]', '[PAD]', '[PAD]', '[PAD]', '[PAD]', '[PAD]', '[PAD]', '[PAD]', '[PAD]', '[PAD]', '[PAD]', '[PAD]', '[PAD]', '[PAD]', '[PAD]', '[PAD]', '[PAD]', '[PAD]', '[PAD]', '[PAD]', '[PAD]', '[PAD]', '[PAD]', '[PAD]', '[PAD]', '[PAD]', '[PAD]', '[PAD]', '[PAD]', '[PAD]', '[PAD]']\n",
            "Oración Real en Ingles:  ['[SOS]', 'my', 'wife', 'loves', 'apple', 'pie', '.', '[EOS]', '[PAD]', '[PAD]', '[PAD]', '[PAD]', '[PAD]', '[PAD]', '[PAD]', '[PAD]', '[PAD]', '[PAD]', '[PAD]', '[PAD]', '[PAD]', '[PAD]', '[PAD]', '[PAD]', '[PAD]', '[PAD]', '[PAD]', '[PAD]', '[PAD]', '[PAD]', '[PAD]', '[PAD]', '[PAD]', '[PAD]', '[PAD]', '[PAD]', '[PAD]', '[PAD]', '[PAD]', '[PAD]', '[PAD]', '[PAD]', '[PAD]', '[PAD]', '[PAD]', '[PAD]', '[PAD]', '[PAD]']\n",
            "Oración Predicha en Ingles:  ['my', 'wife', 'likes', 'apple', 'pie', 'very', '[EOS]', 'the', 'the', '.', '.', '.', 'a', 'a', '.', '.', 'very', 'very', 'very', '.', '.', '.', '.', '.', '.', '.', '.', 'a', 'a', 'a', 'a', '.', 'cake', 'cake', '.', 'a', 'a', 'a', '.', 'cake', 'cake', 'cake', 'a', 'a', 'a', '.', 'the', 'apple']\n",
            "\n",
            "\n",
            "Oración en Español:  ['él', 'nunca', 'sale', 'después', 'del', 'anochecer', '.', '[PAD]', '[PAD]', '[PAD]', '[PAD]', '[PAD]', '[PAD]', '[PAD]', '[PAD]', '[PAD]', '[PAD]', '[PAD]', '[PAD]', '[PAD]', '[PAD]', '[PAD]', '[PAD]', '[PAD]', '[PAD]', '[PAD]', '[PAD]', '[PAD]', '[PAD]', '[PAD]', '[PAD]', '[PAD]', '[PAD]', '[PAD]', '[PAD]', '[PAD]', '[PAD]', '[PAD]', '[PAD]', '[PAD]', '[PAD]', '[PAD]', '[PAD]', '[PAD]', '[PAD]', '[PAD]', '[PAD]']\n",
            "Oración Real en Ingles:  ['[SOS]', 'he', 'never', 'goes', 'out', 'after', 'dark', '.', '[EOS]', '[PAD]', '[PAD]', '[PAD]', '[PAD]', '[PAD]', '[PAD]', '[PAD]', '[PAD]', '[PAD]', '[PAD]', '[PAD]', '[PAD]', '[PAD]', '[PAD]', '[PAD]', '[PAD]', '[PAD]', '[PAD]', '[PAD]', '[PAD]', '[PAD]', '[PAD]', '[PAD]', '[PAD]', '[PAD]', '[PAD]', '[PAD]', '[PAD]', '[PAD]', '[PAD]', '[PAD]', '[PAD]', '[PAD]', '[PAD]', '[PAD]', '[PAD]', '[PAD]', '[PAD]', '[PAD]']\n",
            "Oración Predicha en Ingles:  ['he', 'never', 'leaves', 'out', 'after', 'dark', '.', '[EOS]', '.', '.', '.', '.', '.', '.', '.', '.', '.', '.', '.', '.', '.', '.', '.', '.', '.', '.', '.', '.', '.', '.', '.', '.', '.', '.', '.', '.', '.', '.', '.', '.', '.', '.', '.', '.', '.', '.', '.', '.']\n",
            "\n",
            "\n",
            "Oración en Español:  ['los', 'leones', 'rugían', 'en', 'sus', 'jaulas', '.', '[PAD]', '[PAD]', '[PAD]', '[PAD]', '[PAD]', '[PAD]', '[PAD]', '[PAD]', '[PAD]', '[PAD]', '[PAD]', '[PAD]', '[PAD]', '[PAD]', '[PAD]', '[PAD]', '[PAD]', '[PAD]', '[PAD]', '[PAD]', '[PAD]', '[PAD]', '[PAD]', '[PAD]', '[PAD]', '[PAD]', '[PAD]', '[PAD]', '[PAD]', '[PAD]', '[PAD]', '[PAD]', '[PAD]', '[PAD]', '[PAD]', '[PAD]', '[PAD]', '[PAD]', '[PAD]', '[PAD]']\n",
            "Oración Real en Ingles:  ['[SOS]', 'the', 'lions', 'roared', 'in', 'their', 'cages', '.', '[EOS]', '[PAD]', '[PAD]', '[PAD]', '[PAD]', '[PAD]', '[PAD]', '[PAD]', '[PAD]', '[PAD]', '[PAD]', '[PAD]', '[PAD]', '[PAD]', '[PAD]', '[PAD]', '[PAD]', '[PAD]', '[PAD]', '[PAD]', '[PAD]', '[PAD]', '[PAD]', '[PAD]', '[PAD]', '[PAD]', '[PAD]', '[PAD]', '[PAD]', '[PAD]', '[PAD]', '[PAD]', '[PAD]', '[PAD]', '[PAD]', '[PAD]', '[PAD]', '[PAD]', '[PAD]', '[PAD]']\n",
            "Oración Predicha en Ingles:  ['lions', 'lions', 'were', 'in', 'his', 'cages', '.', '[EOS]', '.', '.', '.', '.', '.', '.', '.', '.', '.', '.', '.', '.', '.', '.', '.', '.', '.', '.', '.', '.', '.', '.', '.', '.', '.', '.', '.', '.', '.', '.', '.', '.', '.', '.', '.', '.', '.', '.', '.', '.']\n",
            "\n",
            "\n",
            "Oración en Español:  ['tom', 'llenó', 'la', 'carretilla', 'con', 'arena', '.', '[PAD]', '[PAD]', '[PAD]', '[PAD]', '[PAD]', '[PAD]']\n",
            "Oración Real en Ingles:  ['[SOS]', 'tom', 'filled', 'the', 'wheelbarrow', 'with', 'sand', '.', '[EOS]', '[PAD]', '[PAD]', '[PAD]', '[PAD]', '[PAD]', '[PAD]', '[PAD]', '[PAD]']\n",
            "Oración Predicha en Ingles:  ['tom', 'filled', 'the', 'sand', 'with', 'sand', '.', '[EOS]', '.', '.', '.', '.', '.', '.', '.', '.', '.']\n",
            "\n",
            "\n",
            "Oración en Español:  ['¿', 'estás', 'diciendo', 'que', 'soy', 'una', 'mentirosa', '?', '[PAD]', '[PAD]', '[PAD]', '[PAD]', '[PAD]']\n",
            "Oración Real en Ingles:  ['[SOS]', 'are', 'you', 'saying', 'that', 'i', \"'m\", 'a', 'liar', '?', '[EOS]', '[PAD]', '[PAD]', '[PAD]', '[PAD]', '[PAD]', '[PAD]']\n",
            "Oración Predicha en Ingles:  ['are', 'you', 'saying', 'that', 'i', \"'m\", 'a', 'liar', '?', '[EOS]', '?', '?', '?', '?', '?', '?', '?']\n",
            "\n",
            "\n",
            "Oración en Español:  ['el', 'juez', 'lo', 'sentenció', 'a', 'un', 'año', 'de', 'prisión', '.', '[PAD]', '[PAD]', '[PAD]']\n",
            "Oración Real en Ingles:  ['[SOS]', 'the', 'judge', 'sentenced', 'him', 'to', 'a', 'year', 'in', 'prison', '.', '[EOS]', '[PAD]', '[PAD]', '[PAD]', '[PAD]', '[PAD]']\n",
            "Oración Predicha en Ingles:  ['the', 'judge', 'sentenced', 'him', 'to', 'a', 'year', 'in', 'jail', '.', '[EOS]', '.', '.', '.', '.', '.', '.']\n",
            "\n",
            "\n",
            "Oración en Español:  ['su', 'respuesta', 'es', 'incorrecta', '.', '[PAD]', '[PAD]', '[PAD]', '[PAD]', '[PAD]', '[PAD]', '[PAD]', '[PAD]', '[PAD]', '[PAD]', '[PAD]', '[PAD]', '[PAD]', '[PAD]', '[PAD]', '[PAD]', '[PAD]', '[PAD]', '[PAD]']\n",
            "Oración Real en Ingles:  ['[SOS]', 'your', 'answer', 'is', 'incorrect', '.', '[EOS]', '[PAD]', '[PAD]', '[PAD]', '[PAD]', '[PAD]', '[PAD]', '[PAD]', '[PAD]', '[PAD]', '[PAD]', '[PAD]', '[PAD]', '[PAD]', '[PAD]', '[PAD]', '[PAD]', '[PAD]', '[PAD]', '[PAD]', '[PAD]']\n",
            "Oración Predicha en Ingles:  ['his', 'answer', 'is', 'incorrect', '.', '[EOS]', '.', 'is', '.', '.', '.', '.', '.', '.', '.', '.', '.', '.', '.', '.', '.', '.', '.', '.', '.', '.', '.']\n",
            "\n",
            "\n",
            "Oración en Español:  ['no', 'pudo', 'creer', 'que', 'no', 'estés', 'tan', 'emocionado', 'como', 'yo', '.', '[PAD]', '[PAD]', '[PAD]', '[PAD]', '[PAD]', '[PAD]', '[PAD]', '[PAD]', '[PAD]', '[PAD]', '[PAD]', '[PAD]', '[PAD]']\n",
            "Oración Real en Ingles:  ['[SOS]', 'i', 'ca', \"n't\", 'believe', 'you', \"'re\", 'not', 'as', 'excited', 'as', 'i', 'am', '.', '[EOS]', '[PAD]', '[PAD]', '[PAD]', '[PAD]', '[PAD]', '[PAD]', '[PAD]', '[PAD]', '[PAD]', '[PAD]', '[PAD]', '[PAD]']\n",
            "Oración Predicha en Ingles:  ['it', 'could', \"n't\", 'believe', 'that', \"'re\", 'not', 'as', 'excited', '.', 'i', 'am', '.', '[EOS]', '.', '.', '.', '.', '.', '.', '.', '.', '.', '.', '.', '.', '.']\n",
            "\n",
            "\n",
            "Oración en Español:  ['estás', 'cometiendo', 'un', 'gran', 'error', 'aquí', '.', '[PAD]', '[PAD]', '[PAD]', '[PAD]', '[PAD]', '[PAD]', '[PAD]', '[PAD]', '[PAD]', '[PAD]', '[PAD]', '[PAD]', '[PAD]', '[PAD]', '[PAD]', '[PAD]', '[PAD]']\n",
            "Oración Real en Ingles:  ['[SOS]', 'you', \"'re\", 'making', 'a', 'big', 'mistake', 'here', '.', '[EOS]', '[PAD]', '[PAD]', '[PAD]', '[PAD]', '[PAD]', '[PAD]', '[PAD]', '[PAD]', '[PAD]', '[PAD]', '[PAD]', '[PAD]', '[PAD]', '[PAD]', '[PAD]', '[PAD]', '[PAD]']\n",
            "Oración Predicha en Ingles:  ['you', \"'re\", 'making', 'a', 'big', 'mistake', 'here', '.', '[EOS]', 'here', 'here', 'here', 'here', 'here', 'here', 'here', 'here', 'here', 'here', 'here', 'here', 'here', 'here', 'here', 'here', 'here', 'here']\n",
            "\n",
            "\n",
            "Time: 1m 39s\n",
            "Train Loss: 0.490\n",
            "Val   Loss: 1.179\n",
            "Epoch: 07\n",
            "Oración en Español:  ['las', 'malas', 'hierbas', 'aparecieron', 'súbitamente', 'en', 'el', 'jardín', '.', '[PAD]', '[PAD]', '[PAD]', '[PAD]', '[PAD]', '[PAD]', '[PAD]']\n",
            "Oración Real en Ingles:  ['[SOS]', 'weeds', 'sprang', 'up', 'in', 'the', 'garden', '.', '[EOS]', '[PAD]', '[PAD]', '[PAD]', '[PAD]', '[PAD]', '[PAD]', '[PAD]', '[PAD]', '[PAD]']\n",
            "Oración Predicha en Ingles:  ['weeds', 'sprang', 'up', 'in', 'the', 'garden', 'in', '[EOS]', '.', '.', '.', '.', '.', '.', 'in', 'in', 'in', 'in']\n",
            "\n",
            "\n",
            "Oración en Español:  ['muéstrenme', 'el', 'dinero', '.', '[PAD]', '[PAD]', '[PAD]', '[PAD]', '[PAD]', '[PAD]', '[PAD]', '[PAD]', '[PAD]', '[PAD]', '[PAD]', '[PAD]']\n",
            "Oración Real en Ingles:  ['[SOS]', 'show', 'me', 'the', 'money', '.', '[EOS]', '[PAD]', '[PAD]', '[PAD]', '[PAD]', '[PAD]', '[PAD]', '[PAD]', '[PAD]', '[PAD]', '[PAD]', '[PAD]']\n",
            "Oración Predicha en Ingles:  ['let', 'up', 'the', 'money', '.', '[EOS]', '.', '.', '.', '.', '.', '.', '.', '.', '.', '.', '.', '.']\n",
            "\n",
            "\n",
            "Oración en Español:  ['tom', 'se', 'electrocutó', '.', '[PAD]', '[PAD]', '[PAD]', '[PAD]', '[PAD]', '[PAD]', '[PAD]', '[PAD]', '[PAD]', '[PAD]', '[PAD]', '[PAD]']\n",
            "Oración Real en Ingles:  ['[SOS]', 'tom', 'was', 'electrocuted', '.', '[EOS]', '[PAD]', '[PAD]', '[PAD]', '[PAD]', '[PAD]', '[PAD]', '[PAD]', '[PAD]', '[PAD]', '[PAD]', '[PAD]', '[PAD]']\n",
            "Oración Predicha en Ingles:  ['tom', 'relented', 'interviewed', '.', '[EOS]', '.', '.', '.', '.', '.', 'dumbfounded', 'dumbfounded', 'dumbfounded', 'dumbfounded', 'dumbfounded', 'dumbfounded', 'dumbfounded', 'dumbfounded']\n",
            "\n",
            "\n",
            "Oración en Español:  ['hubo', 'un', 'incendio', 'cerca', '.', '[PAD]', '[PAD]', '[PAD]', '[PAD]', '[PAD]', '[PAD]', '[PAD]', '[PAD]', '[PAD]', '[PAD]', '[PAD]', '[PAD]']\n",
            "Oración Real en Ingles:  ['[SOS]', 'a', 'fire', 'broke', 'out', 'nearby', '.', '[EOS]', '[PAD]', '[PAD]', '[PAD]', '[PAD]', '[PAD]', '[PAD]', '[PAD]']\n",
            "Oración Predicha en Ingles:  ['there', 'fire', 'broke', '.', '.', '.', '[EOS]', '.', '.', '.', '.', '.', 'fire', 'fire', 'fire']\n",
            "\n",
            "\n",
            "Oración en Español:  ['la', 'anciana', 'se', 'cayó', 'y', 'no', 'pudo', 'levantarse', '.', '[PAD]', '[PAD]', '[PAD]', '[PAD]', '[PAD]', '[PAD]', '[PAD]', '[PAD]']\n",
            "Oración Real en Ingles:  ['[SOS]', 'the', 'old', 'woman', 'fell', 'and', 'could', 'not', 'get', 'up', '.', '[EOS]', '[PAD]', '[PAD]', '[PAD]']\n",
            "Oración Predicha en Ingles:  ['the', 'old', 'lady', 'fell', 'up', 'could', \"n't\", 'get', 'up', '.', '[EOS]', '.', '.', '.', '.']\n",
            "\n",
            "\n",
            "Oración en Español:  ['pensé', 'que', 'tom', 'estaba', 'de', 'vacaciones', '.', '[PAD]', '[PAD]', '[PAD]', '[PAD]', '[PAD]', '[PAD]', '[PAD]', '[PAD]', '[PAD]', '[PAD]']\n",
            "Oración Real en Ingles:  ['[SOS]', 'i', 'thought', 'tom', 'was', 'on', 'vacation', '.', '[EOS]', '[PAD]', '[PAD]', '[PAD]', '[PAD]', '[PAD]', '[PAD]']\n",
            "Oración Predicha en Ingles:  ['i', 'thought', 'tom', 'was', 'on', 'vacation', '.', '[EOS]', '.', '.', '.', '.', '.', '.', '.']\n",
            "\n",
            "\n",
            "Oración en Español:  ['¿', 'por', 'qué', 'sigues', 'dándole', 'dinero', '?', '[PAD]', '[PAD]', '[PAD]', '[PAD]', '[PAD]', '[PAD]', '[PAD]', '[PAD]', '[PAD]', '[PAD]', '[PAD]', '[PAD]', '[PAD]', '[PAD]']\n",
            "Oración Real en Ingles:  ['[SOS]', 'why', 'do', 'you', 'keep', 'giving', 'him', 'money', '?', '[EOS]', '[PAD]', '[PAD]', '[PAD]', '[PAD]', '[PAD]', '[PAD]', '[PAD]', '[PAD]', '[PAD]', '[PAD]', '[PAD]']\n",
            "Oración Predicha en Ingles:  ['why', 'are', 'you', 'still', 'milk', 'milk', 'any', '?', '[EOS]', '?', '?', '?', '?', '?', '?', '?', '?', '?', '?', '?', '?']\n",
            "\n",
            "\n",
            "Oración en Español:  ['tom', 'nos', 'siguió', '.', '[PAD]', '[PAD]', '[PAD]', '[PAD]', '[PAD]', '[PAD]', '[PAD]', '[PAD]', '[PAD]', '[PAD]', '[PAD]', '[PAD]', '[PAD]', '[PAD]', '[PAD]', '[PAD]', '[PAD]']\n",
            "Oración Real en Ingles:  ['[SOS]', 'tom', 'followed', 'us', '.', '[EOS]', '[PAD]', '[PAD]', '[PAD]', '[PAD]', '[PAD]', '[PAD]', '[PAD]', '[PAD]', '[PAD]', '[PAD]', '[PAD]', '[PAD]', '[PAD]', '[PAD]', '[PAD]']\n",
            "Oración Predicha en Ingles:  ['tom', 'followed', 'us', '.', '[EOS]', '.', '.', '.', '.', '.', '.', '.', '.', '.', '.', '.', '.', '.', '.', '.', '.']\n",
            "\n",
            "\n",
            "Oración en Español:  ['yo', 'averiguaré', 'finalmente', '.', '[PAD]', '[PAD]', '[PAD]', '[PAD]', '[PAD]', '[PAD]', '[PAD]', '[PAD]', '[PAD]', '[PAD]', '[PAD]', '[PAD]', '[PAD]', '[PAD]', '[PAD]', '[PAD]', '[PAD]']\n",
            "Oración Real en Ingles:  ['[SOS]', 'i', \"'ll\", 'find', 'out', 'eventually', '.', '[EOS]', '[PAD]', '[PAD]', '[PAD]', '[PAD]', '[PAD]', '[PAD]', '[PAD]', '[PAD]', '[PAD]', '[PAD]', '[PAD]', '[PAD]', '[PAD]']\n",
            "Oración Predicha en Ingles:  ['i', \"'ll\", 'find', 'out', 'eventually', '.', '[EOS]', '.', '.', '.', '.', '.', '.', '.', '.', '.', '.', '.', '.', '.', '.']\n",
            "\n",
            "\n",
            "Oración en Español:  ['a', 'mi', 'mujer', 'le', 'gusta', 'mucho', 'la', 'tarta', 'de', 'manzana', '.', '[PAD]', '[PAD]', '[PAD]', '[PAD]', '[PAD]', '[PAD]', '[PAD]', '[PAD]', '[PAD]', '[PAD]', '[PAD]', '[PAD]', '[PAD]', '[PAD]', '[PAD]', '[PAD]', '[PAD]', '[PAD]', '[PAD]', '[PAD]', '[PAD]', '[PAD]', '[PAD]', '[PAD]', '[PAD]', '[PAD]', '[PAD]', '[PAD]', '[PAD]', '[PAD]', '[PAD]', '[PAD]', '[PAD]', '[PAD]', '[PAD]', '[PAD]']\n",
            "Oración Real en Ingles:  ['[SOS]', 'my', 'wife', 'loves', 'apple', 'pie', '.', '[EOS]', '[PAD]', '[PAD]', '[PAD]', '[PAD]', '[PAD]', '[PAD]', '[PAD]', '[PAD]', '[PAD]', '[PAD]', '[PAD]', '[PAD]', '[PAD]', '[PAD]', '[PAD]', '[PAD]', '[PAD]', '[PAD]', '[PAD]', '[PAD]', '[PAD]', '[PAD]', '[PAD]', '[PAD]', '[PAD]', '[PAD]', '[PAD]', '[PAD]', '[PAD]', '[PAD]', '[PAD]', '[PAD]', '[PAD]', '[PAD]', '[PAD]', '[PAD]', '[PAD]', '[PAD]', '[PAD]', '[PAD]']\n",
            "Oración Predicha en Ingles:  ['my', 'wife', 'likes', 'apple', 'pie', 'a', '[EOS]', \"'s\", '.', '.', '.', '.', 'apple', '.', '.', '.', '.', '.', '.', '.', '.', '.', '.', '.', '.', '.', '.', '.', '.', '.', '.', '.', '.', '.', '.', '.', '.', '.', '.', '.', \"'s\", \"'s\", 'apple', 'apple', '.', '.', '.', '.']\n",
            "\n",
            "\n",
            "Oración en Español:  ['él', 'nunca', 'sale', 'después', 'del', 'anochecer', '.', '[PAD]', '[PAD]', '[PAD]', '[PAD]', '[PAD]', '[PAD]', '[PAD]', '[PAD]', '[PAD]', '[PAD]', '[PAD]', '[PAD]', '[PAD]', '[PAD]', '[PAD]', '[PAD]', '[PAD]', '[PAD]', '[PAD]', '[PAD]', '[PAD]', '[PAD]', '[PAD]', '[PAD]', '[PAD]', '[PAD]', '[PAD]', '[PAD]', '[PAD]', '[PAD]', '[PAD]', '[PAD]', '[PAD]', '[PAD]', '[PAD]', '[PAD]', '[PAD]', '[PAD]', '[PAD]', '[PAD]']\n",
            "Oración Real en Ingles:  ['[SOS]', 'he', 'never', 'goes', 'out', 'after', 'dark', '.', '[EOS]', '[PAD]', '[PAD]', '[PAD]', '[PAD]', '[PAD]', '[PAD]', '[PAD]', '[PAD]', '[PAD]', '[PAD]', '[PAD]', '[PAD]', '[PAD]', '[PAD]', '[PAD]', '[PAD]', '[PAD]', '[PAD]', '[PAD]', '[PAD]', '[PAD]', '[PAD]', '[PAD]', '[PAD]', '[PAD]', '[PAD]', '[PAD]', '[PAD]', '[PAD]', '[PAD]', '[PAD]', '[PAD]', '[PAD]', '[PAD]', '[PAD]', '[PAD]', '[PAD]', '[PAD]', '[PAD]']\n",
            "Oración Predicha en Ingles:  ['he', 'never', 'leaves', 'out', 'after', 'sunset', '.', '[EOS]', '.', '.', '.', '.', '.', '.', '.', '.', '.', '.', '.', '.', '.', '.', '.', '.', '.', '.', '.', '.', '.', '.', '.', '.', '.', '.', '.', '.', '.', '.', '.', '.', '.', '.', '.', '.', '.', '.', '.', '.']\n",
            "\n",
            "\n",
            "Oración en Español:  ['los', 'leones', 'rugían', 'en', 'sus', 'jaulas', '.', '[PAD]', '[PAD]', '[PAD]', '[PAD]', '[PAD]', '[PAD]', '[PAD]', '[PAD]', '[PAD]', '[PAD]', '[PAD]', '[PAD]', '[PAD]', '[PAD]', '[PAD]', '[PAD]', '[PAD]', '[PAD]', '[PAD]', '[PAD]', '[PAD]', '[PAD]', '[PAD]', '[PAD]', '[PAD]', '[PAD]', '[PAD]', '[PAD]', '[PAD]', '[PAD]', '[PAD]', '[PAD]', '[PAD]', '[PAD]', '[PAD]', '[PAD]', '[PAD]', '[PAD]', '[PAD]', '[PAD]']\n",
            "Oración Real en Ingles:  ['[SOS]', 'the', 'lions', 'roared', 'in', 'their', 'cages', '.', '[EOS]', '[PAD]', '[PAD]', '[PAD]', '[PAD]', '[PAD]', '[PAD]', '[PAD]', '[PAD]', '[PAD]', '[PAD]', '[PAD]', '[PAD]', '[PAD]', '[PAD]', '[PAD]', '[PAD]', '[PAD]', '[PAD]', '[PAD]', '[PAD]', '[PAD]', '[PAD]', '[PAD]', '[PAD]', '[PAD]', '[PAD]', '[PAD]', '[PAD]', '[PAD]', '[PAD]', '[PAD]', '[PAD]', '[PAD]', '[PAD]', '[PAD]', '[PAD]', '[PAD]', '[PAD]', '[PAD]']\n",
            "Oración Predicha en Ingles:  ['lions', 'lions', 'were', 'in', 'his', 'new', '.', '[EOS]', '.', '.', '.', '.', '.', '.', '.', '.', '.', '.', '.', '.', '.', '.', '.', '.', '.', '.', '.', '.', '.', '.', '.', '.', '.', '.', '.', '.', '.', '.', '.', '.', '.', '.', '.', '.', '.', '.', '.', '.']\n",
            "\n",
            "\n",
            "Oración en Español:  ['tom', 'llenó', 'la', 'carretilla', 'con', 'arena', '.', '[PAD]', '[PAD]', '[PAD]', '[PAD]', '[PAD]', '[PAD]']\n",
            "Oración Real en Ingles:  ['[SOS]', 'tom', 'filled', 'the', 'wheelbarrow', 'with', 'sand', '.', '[EOS]', '[PAD]', '[PAD]', '[PAD]', '[PAD]', '[PAD]', '[PAD]', '[PAD]', '[PAD]']\n",
            "Oración Predicha en Ingles:  ['tom', 'filled', 'the', 'sand', 'with', 'sand', '.', '[EOS]', '.', '.', '.', '.', '.', '.', '.', '.', '.']\n",
            "\n",
            "\n",
            "Oración en Español:  ['¿', 'estás', 'diciendo', 'que', 'soy', 'una', 'mentirosa', '?', '[PAD]', '[PAD]', '[PAD]', '[PAD]', '[PAD]']\n",
            "Oración Real en Ingles:  ['[SOS]', 'are', 'you', 'saying', 'that', 'i', \"'m\", 'a', 'liar', '?', '[EOS]', '[PAD]', '[PAD]', '[PAD]', '[PAD]', '[PAD]', '[PAD]']\n",
            "Oración Predicha en Ingles:  ['are', 'you', 'saying', 'that', 'i', 'am', 'a', 'liar', '?', '[EOS]', '?', '?', '?', '?', '?', '?', '?']\n",
            "\n",
            "\n",
            "Oración en Español:  ['el', 'juez', 'lo', 'sentenció', 'a', 'un', 'año', 'de', 'prisión', '.', '[PAD]', '[PAD]', '[PAD]']\n",
            "Oración Real en Ingles:  ['[SOS]', 'the', 'judge', 'sentenced', 'him', 'to', 'a', 'year', 'in', 'prison', '.', '[EOS]', '[PAD]', '[PAD]', '[PAD]', '[PAD]', '[PAD]']\n",
            "Oración Predicha en Ingles:  ['the', 'judge', 'sentenced', 'him', 'to', 'one', 'year', 'in', 'prison', '.', '[EOS]', '.', '.', '.', '.', '.', '.']\n",
            "\n",
            "\n",
            "Oración en Español:  ['su', 'respuesta', 'es', 'incorrecta', '.', '[PAD]', '[PAD]', '[PAD]', '[PAD]', '[PAD]', '[PAD]', '[PAD]', '[PAD]', '[PAD]', '[PAD]', '[PAD]', '[PAD]', '[PAD]', '[PAD]', '[PAD]', '[PAD]', '[PAD]', '[PAD]', '[PAD]']\n",
            "Oración Real en Ingles:  ['[SOS]', 'your', 'answer', 'is', 'incorrect', '.', '[EOS]', '[PAD]', '[PAD]', '[PAD]', '[PAD]', '[PAD]', '[PAD]', '[PAD]', '[PAD]', '[PAD]', '[PAD]', '[PAD]', '[PAD]', '[PAD]', '[PAD]', '[PAD]', '[PAD]', '[PAD]', '[PAD]', '[PAD]', '[PAD]']\n",
            "Oración Predicha en Ingles:  ['his', 'answer', 'is', 'incorrect', '.', '[EOS]', '.', '.', '.', '.', '.', '.', '.', '.', '.', '.', '.', '.', '.', '.', '.', '.', '.', '.', '.', '.', '.']\n",
            "\n",
            "\n",
            "Oración en Español:  ['no', 'pudo', 'creer', 'que', 'no', 'estés', 'tan', 'emocionado', 'como', 'yo', '.', '[PAD]', '[PAD]', '[PAD]', '[PAD]', '[PAD]', '[PAD]', '[PAD]', '[PAD]', '[PAD]', '[PAD]', '[PAD]', '[PAD]', '[PAD]']\n",
            "Oración Real en Ingles:  ['[SOS]', 'i', 'ca', \"n't\", 'believe', 'you', \"'re\", 'not', 'as', 'excited', 'as', 'i', 'am', '.', '[EOS]', '[PAD]', '[PAD]', '[PAD]', '[PAD]', '[PAD]', '[PAD]', '[PAD]', '[PAD]', '[PAD]', '[PAD]', '[PAD]', '[PAD]']\n",
            "Oración Predicha en Ingles:  ['she', 'could', \"n't\", 'believe', 'you', 'are', 'not', 'as', 'excited', '.', 'i', 'am', '.', '[EOS]', '.', '.', '.', '.', '.', '.', '.', '.', '.', '.', '.', '.', '.']\n",
            "\n",
            "\n",
            "Oración en Español:  ['estás', 'cometiendo', 'un', 'gran', 'error', 'aquí', '.', '[PAD]', '[PAD]', '[PAD]', '[PAD]', '[PAD]', '[PAD]', '[PAD]', '[PAD]', '[PAD]', '[PAD]', '[PAD]', '[PAD]', '[PAD]', '[PAD]', '[PAD]', '[PAD]', '[PAD]']\n",
            "Oración Real en Ingles:  ['[SOS]', 'you', \"'re\", 'making', 'a', 'big', 'mistake', 'here', '.', '[EOS]', '[PAD]', '[PAD]', '[PAD]', '[PAD]', '[PAD]', '[PAD]', '[PAD]', '[PAD]', '[PAD]', '[PAD]', '[PAD]', '[PAD]', '[PAD]', '[PAD]', '[PAD]', '[PAD]', '[PAD]']\n",
            "Oración Predicha en Ingles:  ['you', \"'re\", 'making', 'a', 'big', 'mistake', 'here', '.', '[EOS]', '.', '.', '.', '.', '.', '.', '.', 'mistake', 'mistake', 'mistake', '.', '.', '.', '.', '.', '.', '.', '.']\n",
            "\n",
            "\n",
            "Time: 1m 39s\n",
            "Train Loss: 0.433\n",
            "Val   Loss: 1.205\n",
            "1.17322685000717\n",
            "CPU times: user 11min 29s, sys: 15.6 s, total: 11min 45s\n",
            "Wall time: 11min 39s\n"
          ]
        }
      ]
    },
    {
      "cell_type": "markdown",
      "source": [
        "### Probamos con algunas oraciones para ver el resultado del entrenamiento:"
      ],
      "metadata": {
        "id": "LX-vX5SeI_zu"
      }
    },
    {
      "cell_type": "code",
      "source": [
        "translate(model, \"voy a tomar café\", custom_string=True)"
      ],
      "metadata": {
        "id": "Uj0c3NgIQUAZ",
        "colab": {
          "base_uri": "https://localhost:8080/",
          "height": 34
        },
        "outputId": "eaf21d2f-4ca1-4f15-e6db-bd285679a283"
      },
      "execution_count": 179,
      "outputs": [
        {
          "output_type": "execute_result",
          "data": {
            "application/vnd.google.colaboratory.intrinsic+json": {
              "type": "string"
            },
            "text/plain": [
              "\"[SOS] i 'm going to drink coffee .\""
            ]
          },
          "metadata": {},
          "execution_count": 179
        }
      ]
    },
    {
      "cell_type": "code",
      "source": [
        "translate(model, \"¿cómo estás tú?\", custom_string=True)"
      ],
      "metadata": {
        "id": "JDIwESRgIkqy",
        "colab": {
          "base_uri": "https://localhost:8080/",
          "height": 34
        },
        "outputId": "733eb333-46df-4bfd-9098-6c174bbab4dd"
      },
      "execution_count": 184,
      "outputs": [
        {
          "output_type": "execute_result",
          "data": {
            "application/vnd.google.colaboratory.intrinsic+json": {
              "type": "string"
            },
            "text/plain": [
              "'[SOS] how are you ?'"
            ]
          },
          "metadata": {},
          "execution_count": 184
        }
      ]
    },
    {
      "cell_type": "code",
      "source": [
        "translate(model, \"dime la verdad\",  custom_string=True)"
      ],
      "metadata": {
        "id": "oROEHquxF6KL",
        "colab": {
          "base_uri": "https://localhost:8080/",
          "height": 34
        },
        "outputId": "e5b03382-51ed-458d-a1c4-429fe8270f45"
      },
      "execution_count": 185,
      "outputs": [
        {
          "output_type": "execute_result",
          "data": {
            "application/vnd.google.colaboratory.intrinsic+json": {
              "type": "string"
            },
            "text/plain": [
              "'[SOS] tell me the truth the truth .'"
            ]
          },
          "metadata": {},
          "execution_count": 185
        }
      ]
    },
    {
      "cell_type": "markdown",
      "source": [
        "Nada mal para un modelo con solo 1 encoder/decoder, recuerda que el modelo original fue entrenado con millones de datos durante varios días."
      ],
      "metadata": {
        "id": "Vmu1d5cFc5EE"
      }
    },
    {
      "cell_type": "markdown",
      "source": [
        "así es el Transformer de principio a fin, si quieres utilizar el transformer es mejor utilizar los modelos de hugginface y keras ya que son modelos robustos y altamente optimizados, el modelo de acá es solo para aprendizaje.\n",
        "Recuerda suscribirte al blog"
      ],
      "metadata": {
        "id": "Q-1R4iO7dGEN"
      }
    }
  ],
  "metadata": {
    "accelerator": "GPU",
    "colab": {
      "name": "transformer_modelv2.ipynb",
      "provenance": [],
      "collapsed_sections": []
    },
    "kernelspec": {
      "display_name": "Python 3",
      "language": "python",
      "name": "python3"
    },
    "language_info": {
      "codemirror_mode": {
        "name": "ipython",
        "version": 3
      },
      "file_extension": ".py",
      "mimetype": "text/x-python",
      "name": "python",
      "nbconvert_exporter": "python",
      "pygments_lexer": "ipython3",
      "version": "3.5.3"
    },
    "toc": {
      "base_numbering": 1,
      "nav_menu": {},
      "number_sections": true,
      "sideBar": true,
      "skip_h1_title": false,
      "title_cell": "Table of Contents",
      "title_sidebar": "Contents",
      "toc_cell": false,
      "toc_position": {},
      "toc_section_display": true,
      "toc_window_display": false
    }
  },
  "nbformat": 4,
  "nbformat_minor": 0
}
